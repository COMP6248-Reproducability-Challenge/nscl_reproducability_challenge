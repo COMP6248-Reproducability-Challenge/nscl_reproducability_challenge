{
 "cells": [
  {
   "cell_type": "code",
   "execution_count": 1,
   "metadata": {},
   "outputs": [],
   "source": [
    "%load_ext autoreload\n",
    "%autoreload 2\n",
    "\n",
    "import os\n",
    "import os.path as osp\n",
    "\n",
    "from torch.utils.data import random_split\n",
    "\n",
    "from nscl.datasets.clevr_dataset import build_clevr_dataset, build_clevr_dataloader, CLEVRCurriculumSampler\n",
    "from nscl.datasets.clevr_definition import CLEVRDefinition, QuestionTypes\n",
    "from nscl.models.nscl_module import NSCLModule\n"
   ]
  },
  {
   "cell_type": "code",
   "execution_count": 2,
   "metadata": {
    "pycharm": {
     "name": "#%%\n"
    }
   },
   "outputs": [],
   "source": [
    "train_img_root = osp.abspath(osp.dirname(os.getcwd())) + '/data/CLEVR_v1.0/images/train'\n",
    "train_scene_json = osp.abspath(osp.dirname(os.getcwd())) + '/data/CLEVR_v1.0/scenes/train/scenes.json'\n",
    "train_question_json = osp.abspath(osp.dirname(os.getcwd())) + '/data/CLEVR_v1.0/questions/CLEVR_train_questions.json'"
   ]
  },
  {
   "cell_type": "code",
   "execution_count": 3,
   "metadata": {
    "pycharm": {
     "name": "#%%\n"
    }
   },
   "outputs": [
    {
     "name": "stdout",
     "output_type": "stream",
     "text": [
      "loading scenes from: /Users/mark/Projects/nscl_reproducability_challenge/data/CLEVR_v1.0/scenes/train/scenes.json\n",
      "loading questions from: /Users/mark/Projects/nscl_reproducability_challenge/data/CLEVR_v1.0/questions/CLEVR_train_questions.json\n"
     ]
    }
   ],
   "source": [
    "batch_size = 100\n",
    "num_workers = 4\n",
    "dataset = build_clevr_dataset(train_img_root, train_scene_json, train_question_json)\n",
    "train_dataset, val_dataset = random_split(dataset, [len(dataset) - len(dataset)//3, len(dataset)//3])"
   ]
  },
  {
   "cell_type": "code",
   "execution_count": 4,
   "metadata": {
    "pycharm": {
     "name": "#%%\n"
    }
   },
   "outputs": [
    {
     "name": "stdout",
     "output_type": "stream",
     "text": [
      "Preparing curriculum sampler....\n",
      "Preparing curriculum sampler....\n"
     ]
    }
   ],
   "source": [
    "train_curriculum_sampler = CLEVRCurriculumSampler(train_dataset, max_scene_size=5, max_program_size=5, max_data_size=1000)\n",
    "val_curriculum_sampler = CLEVRCurriculumSampler(val_dataset, max_scene_size=5, max_program_size=5, max_data_size=100)\n",
    "\n",
    "train_loader = build_clevr_dataloader(train_dataset, batch_size=batch_size, num_workers=num_workers, shuffle=False,\n",
    "                                     drop_last=False, sampler=train_curriculum_sampler)\n",
    "val_loader = build_clevr_dataloader(val_dataset, batch_size=batch_size, num_workers=num_workers, shuffle=False,\n",
    "                                     drop_last=False, sampler=val_curriculum_sampler)"
   ]
  },
  {
   "cell_type": "code",
   "execution_count": 5,
   "metadata": {
    "pycharm": {
     "name": "#%%\n"
    }
   },
   "outputs": [
    {
     "data": {
      "application/vnd.jupyter.widget-view+json": {
       "model_id": "5af53e1070f94490bcfaa02583222354",
       "version_major": 2,
       "version_minor": 0
      },
      "text/plain": [
       "HBox(children=(FloatProgress(value=0.0, description='train', max=2.0, style=ProgressStyle(description_width='i…"
      ]
     },
     "metadata": {},
     "output_type": "display_data"
    },
    {
     "name": "stdout",
     "output_type": "stream",
     "text": [
      "\n"
     ]
    },
    {
     "data": {
      "application/vnd.jupyter.widget-view+json": {
       "model_id": "62066d7e73a7466d888564893839cad3",
       "version_major": 2,
       "version_minor": 0
      },
      "text/plain": [
       "HBox(children=(FloatProgress(value=0.0, description='val', max=1.0, style=ProgressStyle(description_width='ini…"
      ]
     },
     "metadata": {},
     "output_type": "display_data"
    },
    {
     "name": "stdout",
     "output_type": "stream",
     "text": [
      "\n"
     ]
    },
    {
     "data": {
      "application/vnd.jupyter.widget-view+json": {
       "model_id": "5536c84c35f1449183fbca775175e9c5",
       "version_major": 2,
       "version_minor": 0
      },
      "text/plain": [
       "HBox(children=(FloatProgress(value=0.0, description='train', max=2.0, style=ProgressStyle(description_width='i…"
      ]
     },
     "metadata": {},
     "output_type": "display_data"
    },
    {
     "name": "stdout",
     "output_type": "stream",
     "text": [
      "\n"
     ]
    },
    {
     "data": {
      "application/vnd.jupyter.widget-view+json": {
       "model_id": "9d950845bb2745479e58dcb8f90054e0",
       "version_major": 2,
       "version_minor": 0
      },
      "text/plain": [
       "HBox(children=(FloatProgress(value=0.0, description='val', max=1.0, style=ProgressStyle(description_width='ini…"
      ]
     },
     "metadata": {},
     "output_type": "display_data"
    },
    {
     "name": "stdout",
     "output_type": "stream",
     "text": [
      "\n"
     ]
    },
    {
     "data": {
      "application/vnd.jupyter.widget-view+json": {
       "model_id": "12c5703224e24b64b295513499a9b64e",
       "version_major": 2,
       "version_minor": 0
      },
      "text/plain": [
       "HBox(children=(FloatProgress(value=0.0, description='train', max=2.0, style=ProgressStyle(description_width='i…"
      ]
     },
     "metadata": {},
     "output_type": "display_data"
    },
    {
     "name": "stdout",
     "output_type": "stream",
     "text": [
      "\n"
     ]
    },
    {
     "data": {
      "application/vnd.jupyter.widget-view+json": {
       "model_id": "55f01c707d384bd6be9618e99f85838f",
       "version_major": 2,
       "version_minor": 0
      },
      "text/plain": [
       "HBox(children=(FloatProgress(value=0.0, description='val', max=1.0, style=ProgressStyle(description_width='ini…"
      ]
     },
     "metadata": {},
     "output_type": "display_data"
    },
    {
     "name": "stdout",
     "output_type": "stream",
     "text": [
      "\n"
     ]
    },
    {
     "data": {
      "application/vnd.jupyter.widget-view+json": {
       "model_id": "3226d8a2cc0941f29dfec7c7229be419",
       "version_major": 2,
       "version_minor": 0
      },
      "text/plain": [
       "HBox(children=(FloatProgress(value=0.0, description='train', max=2.0, style=ProgressStyle(description_width='i…"
      ]
     },
     "metadata": {},
     "output_type": "display_data"
    },
    {
     "name": "stdout",
     "output_type": "stream",
     "text": [
      "\n"
     ]
    },
    {
     "data": {
      "application/vnd.jupyter.widget-view+json": {
       "model_id": "f46ab4e47fa74809a0992ead5c856dda",
       "version_major": 2,
       "version_minor": 0
      },
      "text/plain": [
       "HBox(children=(FloatProgress(value=0.0, description='val', max=1.0, style=ProgressStyle(description_width='ini…"
      ]
     },
     "metadata": {},
     "output_type": "display_data"
    },
    {
     "name": "stdout",
     "output_type": "stream",
     "text": [
      "\n"
     ]
    },
    {
     "data": {
      "application/vnd.jupyter.widget-view+json": {
       "model_id": "6c70d829f86a45f4bf748e192d9cd11f",
       "version_major": 2,
       "version_minor": 0
      },
      "text/plain": [
       "HBox(children=(FloatProgress(value=0.0, description='train', max=2.0, style=ProgressStyle(description_width='i…"
      ]
     },
     "metadata": {},
     "output_type": "display_data"
    },
    {
     "name": "stdout",
     "output_type": "stream",
     "text": [
      "\n"
     ]
    },
    {
     "data": {
      "application/vnd.jupyter.widget-view+json": {
       "model_id": "dfaaf470b8f24e29908c8748823d60e1",
       "version_major": 2,
       "version_minor": 0
      },
      "text/plain": [
       "HBox(children=(FloatProgress(value=0.0, description='val', max=1.0, style=ProgressStyle(description_width='ini…"
      ]
     },
     "metadata": {},
     "output_type": "display_data"
    },
    {
     "name": "stdout",
     "output_type": "stream",
     "text": [
      "\n"
     ]
    },
    {
     "data": {
      "application/vnd.jupyter.widget-view+json": {
       "model_id": "817c764b2ec04887907079b4a6b0ced2",
       "version_major": 2,
       "version_minor": 0
      },
      "text/plain": [
       "HBox(children=(FloatProgress(value=0.0, description='train', max=2.0, style=ProgressStyle(description_width='i…"
      ]
     },
     "metadata": {},
     "output_type": "display_data"
    },
    {
     "name": "stdout",
     "output_type": "stream",
     "text": [
      "\n"
     ]
    },
    {
     "data": {
      "application/vnd.jupyter.widget-view+json": {
       "model_id": "a5a929d8a14d49a49a231d172e76985b",
       "version_major": 2,
       "version_minor": 0
      },
      "text/plain": [
       "HBox(children=(FloatProgress(value=0.0, description='val', max=1.0, style=ProgressStyle(description_width='ini…"
      ]
     },
     "metadata": {},
     "output_type": "display_data"
    },
    {
     "name": "stdout",
     "output_type": "stream",
     "text": [
      "\n"
     ]
    },
    {
     "data": {
      "application/vnd.jupyter.widget-view+json": {
       "model_id": "21a0f960d8de43ec823d39535d4db153",
       "version_major": 2,
       "version_minor": 0
      },
      "text/plain": [
       "HBox(children=(FloatProgress(value=0.0, description='train', max=2.0, style=ProgressStyle(description_width='i…"
      ]
     },
     "metadata": {},
     "output_type": "display_data"
    },
    {
     "name": "stdout",
     "output_type": "stream",
     "text": [
      "\n"
     ]
    },
    {
     "data": {
      "application/vnd.jupyter.widget-view+json": {
       "model_id": "97acacdf541d41179af60070f392c7ad",
       "version_major": 2,
       "version_minor": 0
      },
      "text/plain": [
       "HBox(children=(FloatProgress(value=0.0, description='val', max=1.0, style=ProgressStyle(description_width='ini…"
      ]
     },
     "metadata": {},
     "output_type": "display_data"
    },
    {
     "name": "stdout",
     "output_type": "stream",
     "text": [
      "\n"
     ]
    },
    {
     "data": {
      "application/vnd.jupyter.widget-view+json": {
       "model_id": "255bb993d8cc475797bc35c2218fe5da",
       "version_major": 2,
       "version_minor": 0
      },
      "text/plain": [
       "HBox(children=(FloatProgress(value=0.0, description='train', max=2.0, style=ProgressStyle(description_width='i…"
      ]
     },
     "metadata": {},
     "output_type": "display_data"
    },
    {
     "name": "stdout",
     "output_type": "stream",
     "text": [
      "\n"
     ]
    },
    {
     "data": {
      "application/vnd.jupyter.widget-view+json": {
       "model_id": "586effcdbde34f91963a8e05577400e6",
       "version_major": 2,
       "version_minor": 0
      },
      "text/plain": [
       "HBox(children=(FloatProgress(value=0.0, description='val', max=1.0, style=ProgressStyle(description_width='ini…"
      ]
     },
     "metadata": {},
     "output_type": "display_data"
    },
    {
     "name": "stdout",
     "output_type": "stream",
     "text": [
      "\n"
     ]
    },
    {
     "data": {
      "application/vnd.jupyter.widget-view+json": {
       "model_id": "a2706b3251dd4f999cc8f0249fedccdc",
       "version_major": 2,
       "version_minor": 0
      },
      "text/plain": [
       "HBox(children=(FloatProgress(value=0.0, description='train', max=2.0, style=ProgressStyle(description_width='i…"
      ]
     },
     "metadata": {},
     "output_type": "display_data"
    },
    {
     "name": "stdout",
     "output_type": "stream",
     "text": [
      "\n"
     ]
    },
    {
     "data": {
      "application/vnd.jupyter.widget-view+json": {
       "model_id": "e2d1e899675f4a558bef42beeb95e920",
       "version_major": 2,
       "version_minor": 0
      },
      "text/plain": [
       "HBox(children=(FloatProgress(value=0.0, description='val', max=1.0, style=ProgressStyle(description_width='ini…"
      ]
     },
     "metadata": {},
     "output_type": "display_data"
    },
    {
     "name": "stdout",
     "output_type": "stream",
     "text": [
      "\n"
     ]
    },
    {
     "data": {
      "application/vnd.jupyter.widget-view+json": {
       "model_id": "e0c539fd511a4d3ea694393d8fe6af21",
       "version_major": 2,
       "version_minor": 0
      },
      "text/plain": [
       "HBox(children=(FloatProgress(value=0.0, description='train', max=2.0, style=ProgressStyle(description_width='i…"
      ]
     },
     "metadata": {},
     "output_type": "display_data"
    },
    {
     "name": "stdout",
     "output_type": "stream",
     "text": [
      "\n"
     ]
    },
    {
     "data": {
      "application/vnd.jupyter.widget-view+json": {
       "model_id": "f2499aa35f4546b19d3112aa876ef82d",
       "version_major": 2,
       "version_minor": 0
      },
      "text/plain": [
       "HBox(children=(FloatProgress(value=0.0, description='val', max=1.0, style=ProgressStyle(description_width='ini…"
      ]
     },
     "metadata": {},
     "output_type": "display_data"
    },
    {
     "name": "stdout",
     "output_type": "stream",
     "text": [
      "\n"
     ]
    }
   ],
   "source": [
    "import torch\n",
    "from torch import nn\n",
    "from torch import optim\n",
    "from tqdm.autonotebook import tqdm\n",
    "\n",
    "device = \"cuda:0\" if torch.cuda.is_available() else \"cpu\"\n",
    "epoch = 10\n",
    "model = NSCLModule(CLEVRDefinition.attribute_concept_map).to(device)\n",
    "mse_loss = nn.MSELoss()\n",
    "bce_loss = nn.BCELoss()\n",
    "ce_loss = nn.CrossEntropyLoss()\n",
    "\n",
    "opt = optim.Adam(filter(lambda p: p.requires_grad, model.parameters()), lr=0.01)\n",
    "\n",
    "for e in range(epoch):\n",
    "    model.train()\n",
    "    with tqdm(total=len(train_loader), desc='train') as t:\n",
    "        epoch_loss = 0\n",
    "        for idx, (images, questions, scenes) in enumerate(train_loader):\n",
    "            opt.zero_grad()\n",
    "            results = model(images.to(device), questions, scenes)\n",
    "            total_loss = torch.tensor(0.0, requires_grad=True, dtype=torch.float)\n",
    "            for i, q in enumerate(questions):\n",
    "                if q.question_type == QuestionTypes.COUNT:\n",
    "                    loss = mse_loss(results[i], q.answer_tensor)\n",
    "                elif q.question_type == QuestionTypes.BOOLEAN:\n",
    "                    loss = bce_loss(results[i], q.answer_tensor)\n",
    "                else:\n",
    "                    loss = bce_loss(results[i], q.answer_tensor)\n",
    "\n",
    "                total_loss = total_loss + loss\n",
    "\n",
    "            total_loss.backward()\n",
    "            opt.step()\n",
    "            epoch_loss = (epoch_loss * idx + total_loss.item()) / (idx + 1)\n",
    "            t.set_postfix(loss='{:05.3f}'.format(epoch_loss))\n",
    "            t.update()\n",
    "\n",
    "    model.eval()\n",
    "    with tqdm(total=len(val_loader), desc='val') as t:\n",
    "        with torch.no_grad():\n",
    "            epoch_loss = 0\n",
    "            for idx, (images, questions, scenes) in enumerate(val_loader):\n",
    "                results = model(images.to(device), questions, scenes)\n",
    "                total_loss = torch.tensor(0.0, dtype=torch.float)\n",
    "                for i, q in enumerate(questions):\n",
    "                    if q.question_type == QuestionTypes.COUNT:\n",
    "                        loss = mse_loss(results[i], q.answer_tensor)\n",
    "                    elif q.question_type == QuestionTypes.BOOLEAN:\n",
    "                        loss = bce_loss(results[i], q.answer_tensor)\n",
    "                    else:\n",
    "                        loss = bce_loss(results[i], q.answer_tensor)\n",
    "\n",
    "                    total_loss = total_loss + loss\n",
    "\n",
    "                epoch_loss = (epoch_loss * idx + total_loss.item()) / (idx + 1)\n",
    "                t.set_postfix(loss='{:05.3f}'.format(epoch_loss))\n",
    "                t.update()"
   ]
  },
  {
   "cell_type": "markdown",
   "metadata": {},
   "source": [
    "### Testing the Model"
   ]
  },
  {
   "cell_type": "code",
   "execution_count": 6,
   "metadata": {},
   "outputs": [
    {
     "name": "stdout",
     "output_type": "stream",
     "text": [
      "loading scenes from: /Users/mark/Projects/nscl_reproducability_challenge/data/CLEVR_v1.0/scenes/val/scenes.json\n",
      "loading questions from: /Users/mark/Projects/nscl_reproducability_challenge/data/CLEVR_v1.0/questions/CLEVR_val_questions.json\n",
      "Preparing curriculum sampler....\n"
     ]
    }
   ],
   "source": [
    "batch_size = 100\n",
    "num_workers = 4\n",
    "test_img_root = osp.abspath(osp.dirname(os.getcwd())) + '/data/CLEVR_v1.0/images/val'\n",
    "test_scene_json = osp.abspath(osp.dirname(os.getcwd())) + '/data/CLEVR_v1.0/scenes/val/scenes.json'\n",
    "test_question_json = osp.abspath(osp.dirname(os.getcwd())) + '/data/CLEVR_v1.0/questions/CLEVR_val_questions.json'\n",
    "\n",
    "test_dataset = build_clevr_dataset(test_img_root, test_scene_json, test_question_json)\n",
    "test_curriculum_sampler = CLEVRCurriculumSampler(test_dataset, max_scene_size=5, max_program_size=5, max_data_size=100)\n",
    "test_loader = build_clevr_dataloader(test_dataset, batch_size=batch_size, num_workers=num_workers, shuffle=False,\n",
    "                                     drop_last=False, sampler=test_curriculum_sampler)"
   ]
  },
  {
   "cell_type": "code",
   "execution_count": 7,
   "metadata": {
    "pycharm": {
     "name": "#%%\n"
    }
   },
   "outputs": [
    {
     "data": {
      "application/vnd.jupyter.widget-view+json": {
       "model_id": "3f07d9a7cdf64cf980e4b1b6f4f9c665",
       "version_major": 2,
       "version_minor": 0
      },
      "text/plain": [
       "HBox(children=(FloatProgress(value=0.0, description='test', max=1.0, style=ProgressStyle(description_width='in…"
      ]
     },
     "metadata": {},
     "output_type": "display_data"
    },
    {
     "name": "stdout",
     "output_type": "stream",
     "text": [
      "What is the material of the big purple object?\n",
      "True Answer metal\n",
      "True Answer distribution 1\n",
      "Predicted Answer 0\n",
      "How many small matte things are there?\n",
      "True Answer 1\n",
      "Predicted Answer 2\n",
      "What number of tiny objects are there?\n",
      "True Answer 3\n",
      "Predicted Answer 2\n",
      "What is the color of the rubber cube?\n",
      "True Answer red\n",
      "True Answer distribution 1\n",
      "Predicted Answer 7\n",
      "What shape is the brown thing?\n",
      "True Answer cylinder\n",
      "True Answer distribution 2\n",
      "Predicted Answer 0\n",
      "What is the material of the small purple thing?\n",
      "True Answer rubber\n",
      "True Answer distribution 0\n",
      "Predicted Answer 0\n",
      "The big block has what color?\n",
      "True Answer gray\n",
      "True Answer distribution 0\n",
      "Predicted Answer 7\n",
      "What size is the sphere?\n",
      "True Answer small\n",
      "True Answer distribution 0\n",
      "Predicted Answer 1\n",
      "The large brown thing is what shape?\n",
      "True Answer cube\n",
      "True Answer distribution 0\n",
      "Predicted Answer 0\n",
      "The sphere is what color?\n",
      "True Answer red\n",
      "True Answer distribution 1\n",
      "Predicted Answer 7\n",
      "What size is the blue object?\n",
      "True Answer small\n",
      "True Answer distribution 0\n",
      "Predicted Answer 1\n",
      "\n",
      "Test Accuracy 0.18181818181818182\n"
     ]
    }
   ],
   "source": [
    "model.eval()\n",
    "correct = 0\n",
    "count = 0\n",
    "with tqdm(total=len(val_loader), desc='test') as t:\n",
    "    with torch.no_grad():\n",
    "        epoch_loss = 0\n",
    "        for idx, (images, questions, scenes) in enumerate(test_loader):\n",
    "            results = model(images.to(device), questions, scenes)\n",
    "            total_loss = torch.tensor(0.0, dtype=torch.float)\n",
    "            for i, q in enumerate(questions):\n",
    "                if q.question_type == QuestionTypes.COUNT:\n",
    "                    loss = mse_loss(results[i], q.answer_tensor)\n",
    "                    print(q.raw_question)\n",
    "                    print('True Answer', q.answer)\n",
    "                    print('Predicted Answer', int(round(results[i].item())))\n",
    "                    if int(round(results[i].item())) == q.answer:\n",
    "                        correct += 1\n",
    "                elif q.question_type == QuestionTypes.BOOLEAN:\n",
    "                    loss = bce_loss(results[i], q.answer_tensor)\n",
    "                    print(q.raw_question)\n",
    "                    print('True Answer', q.answer)\n",
    "                    print('Predicted Answer', 'no' if int(round(results[i].item())) == 0 else 'yes')\n",
    "                    if int(round(results[i].item())) == int(q.answer_tensor.item()):\n",
    "                        correct += 1\n",
    "                else:\n",
    "                    loss = bce_loss(results[i], q.answer_tensor)\n",
    "                    print(q.raw_question)\n",
    "                    print('True Answer', q.answer)\n",
    "                    print('True Answer distribution', torch.argmax(q.answer_tensor).item())\n",
    "                    print('Predicted Answer', torch.argmax(results[i]).item())\n",
    "                    if torch.argmax(results[i]).item() == torch.argmax(q.answer_tensor).item():\n",
    "                        correct += 1\n",
    "                count += 1\n",
    "                total_loss = total_loss + loss\n",
    "\n",
    "            epoch_loss = (epoch_loss * idx + total_loss.item()) / (idx + 1)\n",
    "            t.set_postfix(loss='{:05.3f}'.format(epoch_loss))\n",
    "            t.update()\n",
    "\n",
    "print('Test Accuracy', correct/count)"
   ]
  },
  {
   "cell_type": "code",
   "execution_count": 22,
   "metadata": {
    "pycharm": {
     "name": "#%%\n"
    }
   },
   "outputs": [],
   "source": [
    "\n"
   ]
  }
 ],
 "metadata": {
  "kernelspec": {
   "display_name": "Python 3.7.7 64-bit ('nscl_reproducability_challenge': conda)",
   "language": "python",
   "name": "python37764bitnsclreproducabilitychallengeconda5dacb941bd5f4f1bb8e7632a7e88fca6"
  },
  "language_info": {
   "codemirror_mode": {
    "name": "ipython",
    "version": 3
   },
   "file_extension": ".py",
   "mimetype": "text/x-python",
   "name": "python",
   "nbconvert_exporter": "python",
   "pygments_lexer": "ipython3",
   "version": "3.7.7"
  }
 },
 "nbformat": 4,
 "nbformat_minor": 1
}