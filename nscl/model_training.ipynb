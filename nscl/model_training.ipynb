{
 "cells": [
  {
   "cell_type": "code",
   "execution_count": 2,
   "metadata": {},
   "outputs": [
    {
     "name": "stdout",
     "output_type": "stream",
     "text": [
      "The autoreload extension is already loaded. To reload it, use:\n",
      "  %reload_ext autoreload\n"
     ]
    }
   ],
   "source": [
    "import sys\n",
    "sys.path.append(\"../\") \n",
    "\n",
    "%load_ext autoreload\n",
    "%autoreload 2\n",
    "\n",
    "import os\n",
    "import os.path as osp\n",
    "\n",
    "from torch.utils.data import random_split\n",
    "\n",
    "from nscl.datasets.clevr_dataset import build_clevr_dataset, build_clevr_dataloader, CLEVRCurriculumSampler\n",
    "from nscl.datasets.clevr_definition import CLEVRDefinition, QuestionTypes\n",
    "from nscl.models.nscl_module import NSCLModule\n"
   ]
  },
  {
   "cell_type": "code",
   "execution_count": 3,
   "metadata": {
    "pycharm": {
     "name": "#%%\n"
    }
   },
   "outputs": [],
   "source": [
    "train_img_root = osp.abspath(osp.dirname(os.getcwd())) + '/data/CLEVR_v1.0/images/train'\n",
    "train_scene_json = osp.abspath(osp.dirname(os.getcwd())) + '/data/CLEVR_v1.0/scenes/train/scenes.json'\n",
    "train_question_json = osp.abspath(osp.dirname(os.getcwd())) + '/data/CLEVR_v1.0/questions/CLEVR_train_questions.json'"
   ]
  },
  {
   "cell_type": "code",
   "execution_count": 4,
   "metadata": {
    "pycharm": {
     "name": "#%%\n"
    }
   },
   "outputs": [
    {
     "name": "stdout",
     "output_type": "stream",
     "text": [
      "loading scenes from: /home/vs2n19/mydocuments/NSCL-reproduce/data/CLEVR_v1.0/scenes/train/scenes.json\n",
      "loading questions from: /home/vs2n19/mydocuments/NSCL-reproduce/data/CLEVR_v1.0/questions/CLEVR_train_questions.json\n"
     ]
    }
   ],
   "source": [
    "batch_size = 100\n",
    "num_workers = 4\n",
    "dataset = build_clevr_dataset(train_img_root, train_scene_json, train_question_json)\n",
    "train_dataset, val_dataset = random_split(dataset, [len(dataset) - len(dataset)//3, len(dataset)//3])"
   ]
  },
  {
   "cell_type": "code",
   "execution_count": 6,
   "metadata": {
    "pycharm": {
     "name": "#%%\n"
    }
   },
   "outputs": [
    {
     "name": "stdout",
     "output_type": "stream",
     "text": [
      "Preparing curriculum sampler....\n",
      "Preparing curriculum sampler....\n"
     ]
    }
   ],
   "source": [
    "train_curriculum_sampler = CLEVRCurriculumSampler(train_dataset, max_scene_size=5, max_program_size=5, max_data_size=1000)\n",
    "val_curriculum_sampler = CLEVRCurriculumSampler(val_dataset, max_scene_size=5, max_program_size=5, max_data_size=100)\n",
    "\n",
    "train_loader = build_clevr_dataloader(train_dataset, batch_size=batch_size, num_workers=num_workers, shuffle=False,\n",
    "                                     drop_last=False, sampler=train_curriculum_sampler)\n",
    "val_loader = build_clevr_dataloader(val_dataset, batch_size=batch_size, num_workers=num_workers, shuffle=False,\n",
    "                                     drop_last=False, sampler=val_curriculum_sampler)"
   ]
  },
  {
   "cell_type": "code",
   "execution_count": 18,
   "metadata": {
    "pycharm": {
     "name": "#%%\n"
    }
   },
   "outputs": [
    {
     "data": {
      "application/vnd.jupyter.widget-view+json": {
       "model_id": "7349fcaacee54849a4b39f9f72fc729c",
       "version_major": 2,
       "version_minor": 0
      },
      "text/plain": [
       "HBox(children=(FloatProgress(value=0.0, description='train', max=2.0, style=ProgressStyle(description_width='i…"
      ]
     },
     "metadata": {},
     "output_type": "display_data"
    },
    {
     "name": "stdout",
     "output_type": "stream",
     "text": [
      "\n"
     ]
    },
    {
     "data": {
      "application/vnd.jupyter.widget-view+json": {
       "model_id": "0af5ebed8baa436bbd812762ab253612",
       "version_major": 2,
       "version_minor": 0
      },
      "text/plain": [
       "HBox(children=(FloatProgress(value=0.0, description='val', max=1.0, style=ProgressStyle(description_width='ini…"
      ]
     },
     "metadata": {},
     "output_type": "display_data"
    },
    {
     "name": "stdout",
     "output_type": "stream",
     "text": [
      "\n"
     ]
    },
    {
     "data": {
      "application/vnd.jupyter.widget-view+json": {
       "model_id": "12ca2163c8a04a54971c6233711be0e9",
       "version_major": 2,
       "version_minor": 0
      },
      "text/plain": [
       "HBox(children=(FloatProgress(value=0.0, description='train', max=2.0, style=ProgressStyle(description_width='i…"
      ]
     },
     "metadata": {},
     "output_type": "display_data"
    },
    {
     "name": "stdout",
     "output_type": "stream",
     "text": [
      "\n"
     ]
    },
    {
     "data": {
      "application/vnd.jupyter.widget-view+json": {
       "model_id": "085981e8a63047b28b81a9416dd08f40",
       "version_major": 2,
       "version_minor": 0
      },
      "text/plain": [
       "HBox(children=(FloatProgress(value=0.0, description='val', max=1.0, style=ProgressStyle(description_width='ini…"
      ]
     },
     "metadata": {},
     "output_type": "display_data"
    },
    {
     "name": "stdout",
     "output_type": "stream",
     "text": [
      "\n"
     ]
    },
    {
     "data": {
      "application/vnd.jupyter.widget-view+json": {
       "model_id": "f6a4f3f5b3a94233b98c9658001e5df4",
       "version_major": 2,
       "version_minor": 0
      },
      "text/plain": [
       "HBox(children=(FloatProgress(value=0.0, description='train', max=2.0, style=ProgressStyle(description_width='i…"
      ]
     },
     "metadata": {},
     "output_type": "display_data"
    },
    {
     "name": "stdout",
     "output_type": "stream",
     "text": [
      "\n"
     ]
    },
    {
     "data": {
      "application/vnd.jupyter.widget-view+json": {
       "model_id": "2f6aa92498ec4df9ba742f14a675f2dc",
       "version_major": 2,
       "version_minor": 0
      },
      "text/plain": [
       "HBox(children=(FloatProgress(value=0.0, description='val', max=1.0, style=ProgressStyle(description_width='ini…"
      ]
     },
     "metadata": {},
     "output_type": "display_data"
    },
    {
     "name": "stdout",
     "output_type": "stream",
     "text": [
      "\n"
     ]
    },
    {
     "data": {
      "application/vnd.jupyter.widget-view+json": {
       "model_id": "747362eafb7a4b50b8ab35018f3d42ba",
       "version_major": 2,
       "version_minor": 0
      },
      "text/plain": [
       "HBox(children=(FloatProgress(value=0.0, description='train', max=2.0, style=ProgressStyle(description_width='i…"
      ]
     },
     "metadata": {},
     "output_type": "display_data"
    },
    {
     "name": "stdout",
     "output_type": "stream",
     "text": [
      "\n"
     ]
    },
    {
     "data": {
      "application/vnd.jupyter.widget-view+json": {
       "model_id": "71d7dc9129ec443fae80072be9bf7468",
       "version_major": 2,
       "version_minor": 0
      },
      "text/plain": [
       "HBox(children=(FloatProgress(value=0.0, description='val', max=1.0, style=ProgressStyle(description_width='ini…"
      ]
     },
     "metadata": {},
     "output_type": "display_data"
    },
    {
     "name": "stdout",
     "output_type": "stream",
     "text": [
      "\n"
     ]
    },
    {
     "data": {
      "application/vnd.jupyter.widget-view+json": {
       "model_id": "7399582ce04f446d997cc84772aaa413",
       "version_major": 2,
       "version_minor": 0
      },
      "text/plain": [
       "HBox(children=(FloatProgress(value=0.0, description='train', max=2.0, style=ProgressStyle(description_width='i…"
      ]
     },
     "metadata": {},
     "output_type": "display_data"
    },
    {
     "name": "stdout",
     "output_type": "stream",
     "text": [
      "\n"
     ]
    },
    {
     "data": {
      "application/vnd.jupyter.widget-view+json": {
       "model_id": "7f3817f8d9fb4b5ab808f9b758898e51",
       "version_major": 2,
       "version_minor": 0
      },
      "text/plain": [
       "HBox(children=(FloatProgress(value=0.0, description='val', max=1.0, style=ProgressStyle(description_width='ini…"
      ]
     },
     "metadata": {},
     "output_type": "display_data"
    },
    {
     "name": "stdout",
     "output_type": "stream",
     "text": [
      "\n"
     ]
    },
    {
     "data": {
      "application/vnd.jupyter.widget-view+json": {
       "model_id": "9bd2dab6bb074f5f9acd774db7197da1",
       "version_major": 2,
       "version_minor": 0
      },
      "text/plain": [
       "HBox(children=(FloatProgress(value=0.0, description='train', max=2.0, style=ProgressStyle(description_width='i…"
      ]
     },
     "metadata": {},
     "output_type": "display_data"
    },
    {
     "name": "stdout",
     "output_type": "stream",
     "text": [
      "\n"
     ]
    },
    {
     "data": {
      "application/vnd.jupyter.widget-view+json": {
       "model_id": "f2ddc254fad54dd0a0ce6c2e31981a0d",
       "version_major": 2,
       "version_minor": 0
      },
      "text/plain": [
       "HBox(children=(FloatProgress(value=0.0, description='val', max=1.0, style=ProgressStyle(description_width='ini…"
      ]
     },
     "metadata": {},
     "output_type": "display_data"
    },
    {
     "name": "stdout",
     "output_type": "stream",
     "text": [
      "\n"
     ]
    },
    {
     "data": {
      "application/vnd.jupyter.widget-view+json": {
       "model_id": "ae24bcb76145411f94cba949b582a5b1",
       "version_major": 2,
       "version_minor": 0
      },
      "text/plain": [
       "HBox(children=(FloatProgress(value=0.0, description='train', max=2.0, style=ProgressStyle(description_width='i…"
      ]
     },
     "metadata": {},
     "output_type": "display_data"
    },
    {
     "name": "stdout",
     "output_type": "stream",
     "text": [
      "\n"
     ]
    },
    {
     "data": {
      "application/vnd.jupyter.widget-view+json": {
       "model_id": "dd16aa2e5a614a969b95be99123cf6c7",
       "version_major": 2,
       "version_minor": 0
      },
      "text/plain": [
       "HBox(children=(FloatProgress(value=0.0, description='val', max=1.0, style=ProgressStyle(description_width='ini…"
      ]
     },
     "metadata": {},
     "output_type": "display_data"
    },
    {
     "name": "stdout",
     "output_type": "stream",
     "text": [
      "\n"
     ]
    },
    {
     "data": {
      "application/vnd.jupyter.widget-view+json": {
       "model_id": "6571b9adeda64a1bbee6788f4b5e2bb2",
       "version_major": 2,
       "version_minor": 0
      },
      "text/plain": [
       "HBox(children=(FloatProgress(value=0.0, description='train', max=2.0, style=ProgressStyle(description_width='i…"
      ]
     },
     "metadata": {},
     "output_type": "display_data"
    },
    {
     "name": "stdout",
     "output_type": "stream",
     "text": [
      "\n"
     ]
    },
    {
     "data": {
      "application/vnd.jupyter.widget-view+json": {
       "model_id": "3a777522687743b9ad9a636d47490c0b",
       "version_major": 2,
       "version_minor": 0
      },
      "text/plain": [
       "HBox(children=(FloatProgress(value=0.0, description='val', max=1.0, style=ProgressStyle(description_width='ini…"
      ]
     },
     "metadata": {},
     "output_type": "display_data"
    },
    {
     "name": "stdout",
     "output_type": "stream",
     "text": [
      "\n"
     ]
    },
    {
     "data": {
      "application/vnd.jupyter.widget-view+json": {
       "model_id": "2feba7a590b74dd191310c9f73b7a9f4",
       "version_major": 2,
       "version_minor": 0
      },
      "text/plain": [
       "HBox(children=(FloatProgress(value=0.0, description='train', max=2.0, style=ProgressStyle(description_width='i…"
      ]
     },
     "metadata": {},
     "output_type": "display_data"
    },
    {
     "name": "stdout",
     "output_type": "stream",
     "text": [
      "\n"
     ]
    },
    {
     "data": {
      "application/vnd.jupyter.widget-view+json": {
       "model_id": "fa5eccde609e4d43b4b38ea2c586bb23",
       "version_major": 2,
       "version_minor": 0
      },
      "text/plain": [
       "HBox(children=(FloatProgress(value=0.0, description='val', max=1.0, style=ProgressStyle(description_width='ini…"
      ]
     },
     "metadata": {},
     "output_type": "display_data"
    },
    {
     "name": "stdout",
     "output_type": "stream",
     "text": [
      "\n"
     ]
    },
    {
     "data": {
      "application/vnd.jupyter.widget-view+json": {
       "model_id": "4fea4baed90f469eb8f4efb48a74f697",
       "version_major": 2,
       "version_minor": 0
      },
      "text/plain": [
       "HBox(children=(FloatProgress(value=0.0, description='train', max=2.0, style=ProgressStyle(description_width='i…"
      ]
     },
     "metadata": {},
     "output_type": "display_data"
    },
    {
     "name": "stdout",
     "output_type": "stream",
     "text": [
      "\n"
     ]
    },
    {
     "data": {
      "application/vnd.jupyter.widget-view+json": {
       "model_id": "365d1fdc856f41a7b4156f54ceaf2264",
       "version_major": 2,
       "version_minor": 0
      },
      "text/plain": [
       "HBox(children=(FloatProgress(value=0.0, description='val', max=1.0, style=ProgressStyle(description_width='ini…"
      ]
     },
     "metadata": {},
     "output_type": "display_data"
    },
    {
     "name": "stdout",
     "output_type": "stream",
     "text": [
      "\n"
     ]
    }
   ],
   "source": [
    "import torch\n",
    "from torch import nn\n",
    "from torch import optim\n",
    "from tqdm.autonotebook import tqdm\n",
    "\n",
    "device = \"cuda:0\" if torch.cuda.is_available() else \"cpu\"\n",
    "epoch = 10\n",
    "model = NSCLModule(CLEVRDefinition.attribute_concept_map).to(device)\n",
    "mse_loss = nn.MSELoss()\n",
    "bce_loss = nn.BCELoss()\n",
    "ce_loss = nn.CrossEntropyLoss()\n",
    "\n",
    "opt = optim.Adam(filter(lambda p: p.requires_grad, model.parameters()), lr=0.01)\n",
    "\n",
    "for e in range(epoch):\n",
    "    model.train()\n",
    "    with tqdm(total=len(train_loader), desc='train') as t:\n",
    "        epoch_loss = 0\n",
    "        for idx, (images, questions, scenes) in enumerate(train_loader):\n",
    "            opt.zero_grad()\n",
    "            results = model(images.to(device), questions, scenes)\n",
    "            total_loss = torch.tensor(0.0, requires_grad=True, dtype=torch.float, device=device)\n",
    "            for i, q in enumerate(questions):\n",
    "                if q.question_type == QuestionTypes.COUNT:\n",
    "                    loss = mse_loss(results[i], q.answer_tensor.to(device))\n",
    "                elif q.question_type == QuestionTypes.BOOLEAN:\n",
    "                    loss = bce_loss(results[i], q.answer_tensor.to(device))\n",
    "                else:\n",
    "                    loss = bce_loss(results[i], q.answer_tensor.to(device))\n",
    "\n",
    "                total_loss = total_loss + loss\n",
    "\n",
    "            total_loss.backward()\n",
    "            opt.step()\n",
    "            epoch_loss = (epoch_loss * idx + total_loss.item()) / (idx + 1)\n",
    "            t.set_postfix(loss='{:05.3f}'.format(epoch_loss))\n",
    "            t.update()\n",
    "\n",
    "    model.eval()\n",
    "    with tqdm(total=len(val_loader), desc='val') as t:\n",
    "        with torch.no_grad():\n",
    "            epoch_loss = 0\n",
    "            for idx, (images, questions, scenes) in enumerate(val_loader):\n",
    "                results = model(images.to(device), questions, scenes)\n",
    "                total_loss = torch.tensor(0.0, requires_grad=True, dtype=torch.float, device=device)\n",
    "                for i, q in enumerate(questions):\n",
    "                    if q.question_type == QuestionTypes.COUNT:\n",
    "                        loss = mse_loss(results[i], q.answer_tensor.to(device))\n",
    "                    elif q.question_type == QuestionTypes.BOOLEAN:\n",
    "                        loss = bce_loss(results[i], q.answer_tensor.to(device))\n",
    "                    else:\n",
    "                        loss = bce_loss(results[i], q.answer_tensor.to(device))\n",
    "\n",
    "                    total_loss = total_loss + loss\n",
    "\n",
    "                epoch_loss = (epoch_loss * idx + total_loss.item()) / (idx + 1)\n",
    "                t.set_postfix(loss='{:05.3f}'.format(epoch_loss))\n",
    "                t.update()"
   ]
  },
  {
   "cell_type": "markdown",
   "metadata": {},
   "source": [
    "### Testing the Model"
   ]
  },
  {
   "cell_type": "code",
   "execution_count": 19,
   "metadata": {},
   "outputs": [
    {
     "name": "stdout",
     "output_type": "stream",
     "text": [
      "loading scenes from: /home/vs2n19/mydocuments/NSCL-reproduce/data/CLEVR_v1.0/scenes/val/scenes.json\n",
      "loading questions from: /home/vs2n19/mydocuments/NSCL-reproduce/data/CLEVR_v1.0/questions/CLEVR_val_questions.json\n",
      "Preparing curriculum sampler....\n"
     ]
    }
   ],
   "source": [
    "batch_size = 100\n",
    "num_workers = 4\n",
    "test_img_root = osp.abspath(osp.dirname(os.getcwd())) + '/data/CLEVR_v1.0/images/val'\n",
    "test_scene_json = osp.abspath(osp.dirname(os.getcwd())) + '/data/CLEVR_v1.0/scenes/val/scenes.json'\n",
    "test_question_json = osp.abspath(osp.dirname(os.getcwd())) + '/data/CLEVR_v1.0/questions/CLEVR_val_questions.json'\n",
    "\n",
    "test_dataset = build_clevr_dataset(test_img_root, test_scene_json, test_question_json)\n",
    "test_curriculum_sampler = CLEVRCurriculumSampler(test_dataset, max_scene_size=5, max_program_size=5, max_data_size=100)\n",
    "test_loader = build_clevr_dataloader(test_dataset, batch_size=batch_size, num_workers=num_workers, shuffle=False,\n",
    "                                     drop_last=False, sampler=test_curriculum_sampler)"
   ]
  },
  {
   "cell_type": "code",
   "execution_count": 21,
   "metadata": {
    "pycharm": {
     "name": "#%%\n"
    }
   },
   "outputs": [
    {
     "data": {
      "application/vnd.jupyter.widget-view+json": {
       "model_id": "8fe919ce3a794b74865a471fa07856a0",
       "version_major": 2,
       "version_minor": 0
      },
      "text/plain": [
       "HBox(children=(FloatProgress(value=0.0, description='test', max=1.0, style=ProgressStyle(description_width='in…"
      ]
     },
     "metadata": {},
     "output_type": "display_data"
    },
    {
     "name": "stdout",
     "output_type": "stream",
     "text": [
      "What is the material of the big purple object?\n",
      "True Answer metal\n",
      "True Answer distribution 1\n",
      "Predicted Answer 1\n",
      "How many small matte things are there?\n",
      "True Answer 1\n",
      "Predicted Answer 3\n",
      "What number of tiny objects are there?\n",
      "True Answer 3\n",
      "Predicted Answer 4\n",
      "What is the color of the rubber cube?\n",
      "True Answer red\n",
      "True Answer distribution 1\n",
      "Predicted Answer 0\n",
      "What shape is the brown thing?\n",
      "True Answer cylinder\n",
      "True Answer distribution 2\n",
      "Predicted Answer 2\n",
      "What is the material of the small purple thing?\n",
      "True Answer rubber\n",
      "True Answer distribution 0\n",
      "Predicted Answer 1\n",
      "The big block has what color?\n",
      "True Answer gray\n",
      "True Answer distribution 0\n",
      "Predicted Answer 0\n",
      "What size is the sphere?\n",
      "True Answer small\n",
      "True Answer distribution 0\n",
      "Predicted Answer 0\n",
      "The large brown thing is what shape?\n",
      "True Answer cube\n",
      "True Answer distribution 0\n",
      "Predicted Answer 2\n",
      "The sphere is what color?\n",
      "True Answer red\n",
      "True Answer distribution 1\n",
      "Predicted Answer 0\n",
      "What size is the blue object?\n",
      "True Answer small\n",
      "True Answer distribution 0\n",
      "Predicted Answer 0\n",
      "\n",
      "Test Accuracy 0.45454545454545453\n"
     ]
    }
   ],
   "source": [
    "model.eval()\n",
    "correct = 0\n",
    "count = 0\n",
    "with tqdm(total=len(val_loader), desc='test') as t:\n",
    "    with torch.no_grad():\n",
    "        epoch_loss = 0\n",
    "        for idx, (images, questions, scenes) in enumerate(test_loader):\n",
    "            results = model(images.to(device), questions, scenes)\n",
    "            total_loss = torch.tensor(0.0, dtype=torch.float)\n",
    "            for i, q in enumerate(questions):\n",
    "                if q.question_type == QuestionTypes.COUNT:\n",
    "                    loss = mse_loss(results[i], q.answer_tensor.to(device))\n",
    "                    print(q.raw_question)\n",
    "                    print('True Answer', q.answer)\n",
    "                    print('Predicted Answer', int(round(results[i].item())))\n",
    "                    if int(round(results[i].item())) == q.answer:\n",
    "                        correct += 1\n",
    "                elif q.question_type == QuestionTypes.BOOLEAN:\n",
    "                    loss = bce_loss(results[i], q.answer_tensor.to(device))\n",
    "                    print(q.raw_question)\n",
    "                    print('True Answer', q.answer)\n",
    "                    print('Predicted Answer', 'no' if int(round(results[i].item())) == 0 else 'yes')\n",
    "                    if int(round(results[i].item())) == int(q.answer_tensor.item()):\n",
    "                        correct += 1\n",
    "                else:\n",
    "                    loss = bce_loss(results[i], q.answer_tensor.to(device))\n",
    "                    print(q.raw_question)\n",
    "                    print('True Answer', q.answer)\n",
    "                    print('True Answer distribution', torch.argmax(q.answer_tensor).item())\n",
    "                    print('Predicted Answer', torch.argmax(results[i]).item())\n",
    "                    if torch.argmax(results[i]).item() == torch.argmax(q.answer_tensor).item():\n",
    "                        correct += 1\n",
    "                count += 1\n",
    "                total_loss = total_loss + loss\n",
    "\n",
    "            epoch_loss = (epoch_loss * idx + total_loss.item()) / (idx + 1)\n",
    "            t.set_postfix(loss='{:05.3f}'.format(epoch_loss))\n",
    "            t.update()\n",
    "\n",
    "print('Test Accuracy', correct/count)"
   ]
  },
  {
   "cell_type": "code",
   "execution_count": 22,
   "metadata": {
    "pycharm": {
     "name": "#%%\n"
    }
   },
   "outputs": [],
   "source": [
    "\n"
   ]
  }
 ],
 "metadata": {
  "kernelspec": {
   "display_name": "Python 3",
   "language": "python",
   "name": "python3"
  },
  "language_info": {
   "codemirror_mode": {
    "name": "ipython",
    "version": 3
   },
   "file_extension": ".py",
   "mimetype": "text/x-python",
   "name": "python",
   "nbconvert_exporter": "python",
   "pygments_lexer": "ipython3",
   "version": "3.8.2"
  }
 },
 "nbformat": 4,
 "nbformat_minor": 1
}