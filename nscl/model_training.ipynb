{
 "cells": [
  {
   "cell_type": "code",
   "execution_count": 1,
   "metadata": {},
   "outputs": [],
   "source": [
    "import sys\n",
    "sys.path.append(\"../\") \n",
    "\n",
    "%load_ext autoreload\n",
    "%autoreload 2\n",
    "\n",
    "import os\n",
    "import os.path as osp\n",
    "\n",
    "from torch.utils.data import random_split\n",
    "\n",
    "from nscl.datasets.clevr_dataset import build_clevr_dataset, build_clevr_dataloader\n",
    "from nscl.datasets.clevr_definition import CLEVRDefinition, QuestionTypes\n",
    "from nscl.models.nscl_module import NSCLModule\n"
   ]
  },
  {
   "cell_type": "code",
   "execution_count": 2,
   "metadata": {
    "pycharm": {
     "name": "#%%\n"
    }
   },
   "outputs": [],
   "source": [
    "train_img_root = osp.abspath(osp.dirname(os.getcwd())) + '/data/CLEVR_v1.0/images/train'\n",
    "train_scene_json = osp.abspath(osp.dirname(os.getcwd())) + '/data/CLEVR_v1.0/scenes/train/scenes.json'\n",
    "train_question_json = osp.abspath(osp.dirname(os.getcwd())) + '/data/CLEVR_v1.0/questions/CLEVR_train_questions.json'"
   ]
  },
  {
   "cell_type": "code",
   "execution_count": 3,
   "metadata": {
    "pycharm": {
     "name": "#%%\n"
    }
   },
   "outputs": [
    {
     "name": "stdout",
     "output_type": "stream",
     "text": [
      "loading scenes from: /Users/mark/Projects/nscl_reproducability_challenge/data/CLEVR_v1.0/scenes/train/scenes.json\n",
      "loading questions from: /Users/mark/Projects/nscl_reproducability_challenge/data/CLEVR_v1.0/questions/CLEVR_train_questions.json\n"
     ]
    }
   ],
   "source": [
    "batch_size = 100\n",
    "num_workers = 4\n",
    "dataset = build_clevr_dataset(train_img_root, train_scene_json, train_question_json)\n",
    "train_dataset, val_dataset = random_split(dataset, [len(dataset) - len(dataset)//3, len(dataset)//3])"
   ]
  },
  {
   "cell_type": "code",
   "execution_count": 4,
   "metadata": {
    "pycharm": {
     "name": "#%%\n"
    }
   },
   "outputs": [],
   "source": [
    "train_loader = build_clevr_dataloader(train_dataset, batch_size=batch_size, num_workers=num_workers, shuffle=False,\n",
    "                                     drop_last=False, max_scene_size=5, max_program_size=5)\n",
    "val_loader = build_clevr_dataloader(val_dataset, batch_size=batch_size, num_workers=num_workers, shuffle=False,\n",
    "                                     drop_last=False, max_scene_size=5, max_program_size=5)"
   ]
  },
  {
   "cell_type": "code",
   "execution_count": null,
   "metadata": {
    "pycharm": {
     "name": "#%%\n",
     "is_executing": true
    }
   },
   "outputs": [
    {
     "data": {
      "text/plain": "HBox(children=(FloatProgress(value=0.0, description='train', max=4667.0, style=ProgressStyle(description_width…",
      "application/vnd.jupyter.widget-view+json": {
       "version_major": 2,
       "version_minor": 0,
       "model_id": "6a0a5ba907cf4366a663f4fd559aac46"
      }
     },
     "metadata": {},
     "output_type": "display_data"
    }
   ],
   "source": [
    "import torch\n",
    "from torch import nn\n",
    "from torch import optim\n",
    "from tqdm.autonotebook import tqdm\n",
    "\n",
    "device = \"cuda:0\" if torch.cuda.is_available() else \"cpu\"\n",
    "epoch = 10\n",
    "model = NSCLModule(CLEVRDefinition.attribute_concept_map).to(device)\n",
    "mse_loss = nn.MSELoss()\n",
    "bce_loss = nn.BCELoss()\n",
    "ce_loss = nn.CrossEntropyLoss()\n",
    "\n",
    "opt = optim.Adam(filter(lambda p: p.requires_grad, model.parameters()), lr=0.01)\n",
    "\n",
    "for e in range(epoch):\n",
    "    model.train()\n",
    "    with tqdm(total=len(train_loader), desc='train') as t:\n",
    "        epoch_loss = 0\n",
    "        for idx, (images, questions, scenes) in enumerate(train_loader):\n",
    "            opt.zero_grad()\n",
    "            results = model(images.to(device), questions, scenes)\n",
    "            total_loss = torch.tensor(0.0, requires_grad=True, dtype=torch.float, device=device)\n",
    "            for i, q in enumerate(questions):\n",
    "                predicted_answer = results[i]\n",
    "                true_answer = q.answer_tensor.to(device)\n",
    "                if q.question_type == QuestionTypes.COUNT:\n",
    "                    loss = mse_loss(predicted_answer, true_answer)\n",
    "                elif q.question_type == QuestionTypes.BOOLEAN:\n",
    "                    predicted_answer = torch.stack([predicted_answer, torch.tensor(1 - predicted_answer.item(), device=device)])\n",
    "                    loss = bce_loss(predicted_answer, true_answer)\n",
    "                else:\n",
    "                    predicted_answer = predicted_answer.unsqueeze(0)\n",
    "                    loss = ce_loss(predicted_answer, true_answer)\n",
    "\n",
    "                total_loss = total_loss + loss\n",
    "\n",
    "            total_loss.backward()\n",
    "            opt.step()\n",
    "            epoch_loss = (epoch_loss * idx + total_loss.item()) / (idx + 1)\n",
    "            t.set_postfix(loss='{:05.3f}'.format(epoch_loss))\n",
    "            t.update()\n",
    "\n",
    "    model.eval()\n",
    "    with tqdm(total=len(val_loader), desc='val') as t:\n",
    "        with torch.no_grad():\n",
    "            epoch_loss = 0\n",
    "            for idx, (images, questions, scenes) in enumerate(val_loader):\n",
    "                results = model(images.to(device), questions, scenes)\n",
    "                total_loss = torch.tensor(0.0, requires_grad=True, dtype=torch.float, device=device)\n",
    "                for i, q in enumerate(questions):\n",
    "                    predicted_answer = results[i]\n",
    "                    true_answer = q.answer_tensor.to(device)\n",
    "                    if q.question_type == QuestionTypes.COUNT:\n",
    "                        loss = mse_loss(predicted_answer, true_answer)\n",
    "                    elif q.question_type == QuestionTypes.BOOLEAN:\n",
    "                        predicted_answer = torch.stack([predicted_answer, torch.tensor(1 - predicted_answer.item(), device=device)])\n",
    "                        loss = bce_loss(predicted_answer, true_answer)\n",
    "                    else:\n",
    "                        predicted_answer = predicted_answer.unsqueeze(0)\n",
    "                        loss = ce_loss(predicted_answer, true_answer)\n",
    "\n",
    "                    total_loss = total_loss + loss\n",
    "                epoch_loss = (epoch_loss * idx + total_loss.item()) / (idx + 1)\n",
    "                t.set_postfix(loss='{:05.3f}'.format(epoch_loss))\n",
    "                t.update()"
   ]
  },
  {
   "cell_type": "markdown",
   "metadata": {},
   "source": [
    "### Testing the Model"
   ]
  },
  {
   "cell_type": "code",
   "execution_count": null,
   "metadata": {
    "pycharm": {
     "is_executing": true
    }
   },
   "outputs": [],
   "source": [
    "batch_size = 100\n",
    "num_workers = 4\n",
    "test_img_root = osp.abspath(osp.dirname(os.getcwd())) + '/data/CLEVR_v1.0/images/val'\n",
    "test_scene_json = osp.abspath(osp.dirname(os.getcwd())) + '/data/CLEVR_v1.0/scenes/val/scenes.json'\n",
    "test_question_json = osp.abspath(osp.dirname(os.getcwd())) + '/data/CLEVR_v1.0/questions/CLEVR_val_questions.json'\n",
    "\n",
    "test_dataset = build_clevr_dataset(test_img_root, test_scene_json, test_question_json)\n",
    "test_loader = build_clevr_dataloader(test_dataset, batch_size=batch_size, num_workers=num_workers, shuffle=False,\n",
    "                                     drop_last=False, max_scene_size=5, max_program_size=5,)"
   ]
  },
  {
   "cell_type": "code",
   "execution_count": null,
   "metadata": {
    "pycharm": {
     "name": "#%%\n",
     "is_executing": true
    }
   },
   "outputs": [],
   "source": [
    "model.eval()\n",
    "correct = 0\n",
    "count = 0\n",
    "with tqdm(total=len(val_loader), desc='test') as t:\n",
    "    with torch.no_grad():\n",
    "        epoch_loss = 0\n",
    "        for idx, (images, questions, scenes) in enumerate(test_loader):\n",
    "            results = model(images.to(device), questions, scenes)\n",
    "            total_loss = torch.tensor(0.0, dtype=torch.float)\n",
    "            for i, q in enumerate(questions):\n",
    "                predicted_answer = results[i]\n",
    "                true_answer = q.answer_tensor.to(device)\n",
    "                if q.question_type == QuestionTypes.COUNT:\n",
    "                    loss = mse_loss(predicted_answer, true_answer)\n",
    "                    print(q.raw_question)\n",
    "                    print('True Answer', q.answer)\n",
    "                    print('Predicted Answer', int(round(predicted_answer.item())))\n",
    "                    if int(round(predicted_answer.item())) == q.answer:\n",
    "                        correct += 1\n",
    "                elif q.question_type == QuestionTypes.BOOLEAN:\n",
    "                    predicted_answer = torch.stack([predicted_answer, torch.tensor(1 - predicted_answer.item(), device=device)])\n",
    "                    loss = bce_loss(predicted_answer, true_answer)\n",
    "                    print(q.raw_question)\n",
    "                    print('True Answer', q.answer)\n",
    "                    ans = 'yes' if torch.argmax(predicted_answer).item() == 0 else 'no'\n",
    "                    print('Predicted Answer', ans)\n",
    "                    if ans == q.answer:\n",
    "                        correct += 1\n",
    "                else:\n",
    "                    predicted_answer = predicted_answer.unsqueeze(0)\n",
    "                    loss = ce_loss(predicted_answer, true_answer)\n",
    "                    print(q.raw_question)\n",
    "                    print('True Answer', q.answer)\n",
    "                    print('True Answer id', q.answer_tensor.item())\n",
    "                    ans = torch.argmax(predicted_answer).item()\n",
    "                    print('Predicted Answer', ans)\n",
    "                    if int(ans) == int(q.answer_tensor.item()):\n",
    "                        correct += 1\n",
    "\n",
    "                print()\n",
    "                count += 1\n",
    "                total_loss = total_loss + loss\n",
    "\n",
    "            epoch_loss = (epoch_loss * idx + total_loss.item()) / (idx + 1)\n",
    "            t.set_postfix(loss='{:05.3f}'.format(epoch_loss))\n",
    "            t.update()\n",
    "\n",
    "print('Test Accuracy', correct/count)"
   ]
  },
  {
   "cell_type": "code",
   "execution_count": null,
   "metadata": {
    "pycharm": {
     "name": "#%%\n",
     "is_executing": true
    }
   },
   "outputs": [],
   "source": [
    "\n"
   ]
  }
 ],
 "metadata": {
  "kernelspec": {
   "display_name": "Python 3",
   "language": "python",
   "name": "python3"
  },
  "language_info": {
   "codemirror_mode": {
    "name": "ipython",
    "version": 3
   },
   "file_extension": ".py",
   "mimetype": "text/x-python",
   "name": "python",
   "nbconvert_exporter": "python",
   "pygments_lexer": "ipython3",
   "version": "3.8.2"
  }
 },
 "nbformat": 4,
 "nbformat_minor": 1
}