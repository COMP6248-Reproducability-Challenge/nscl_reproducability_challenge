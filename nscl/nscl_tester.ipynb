{
 "cells": [
  {
   "cell_type": "code",
   "execution_count": 10,
   "metadata": {
    "collapsed": true
   },
   "outputs": [
    {
     "name": "stdout",
     "output_type": "stream",
     "text": [
      "The autoreload extension is already loaded. To reload it, use:\n",
      "  %reload_ext autoreload\n"
     ]
    }
   ],
   "source": [
    "%load_ext autoreload\n",
    "%autoreload 2\n",
    "\n",
    "import os\n",
    "import os.path as osp\n",
    "\n",
    "from nscl.datasets.clevr_dataset import build_clevr_dataset, build_clevr_dataloader, CLEVRCurriculumSampler\n",
    "from nscl.datasets.clevr_definition import CLEVRDefinition\n",
    "from nscl.models.nscl_module import NSCLModule"
   ]
  },
  {
   "cell_type": "code",
   "execution_count": 11,
   "outputs": [],
   "source": [
    "train_img_root = osp.abspath(osp.dirname(os.getcwd())) + '/data/CLEVR_v1.0/images/train'\n",
    "train_scene_json = osp.abspath(osp.dirname(os.getcwd())) + '/data/CLEVR_v1.0/scenes/train/scenes.json'\n",
    "train_question_json = osp.abspath(osp.dirname(os.getcwd())) + '/data/CLEVR_v1.0/questions/CLEVR_train_questions.json'"
   ],
   "metadata": {
    "collapsed": false,
    "pycharm": {
     "name": "#%%\n"
    }
   }
  },
  {
   "cell_type": "code",
   "execution_count": 21,
   "outputs": [
    {
     "name": "stdout",
     "output_type": "stream",
     "text": [
      "loading scenes from: /Users/mark/Projects/nscl_reproducability_challenge/data/CLEVR_v1.0/scenes/train/scenes.json\n",
      "loading questions from: /Users/mark/Projects/nscl_reproducability_challenge/data/CLEVR_v1.0/questions/CLEVR_train_questions.json\n"
     ]
    }
   ],
   "source": [
    "batch_size = 100\n",
    "num_workers = 4\n",
    "dataset = build_clevr_dataset(train_img_root, train_scene_json, train_question_json)"
   ],
   "metadata": {
    "collapsed": false,
    "pycharm": {
     "name": "#%%\n"
    }
   }
  },
  {
   "cell_type": "code",
   "execution_count": 19,
   "outputs": [
    {
     "name": "stdout",
     "output_type": "stream",
     "text": [
      "Preparing curriculum sampler....\n"
     ]
    }
   ],
   "source": [
    "curriculum_sampler = CLEVRCurriculumSampler(dataset, max_scene_size=5, max_program_size=5, max_data_size=1000)\n",
    "data_loader = build_clevr_dataloader(dataset, batch_size=batch_size, num_workers=num_workers, shuffle=False,\n",
    "                                     drop_last=False, sampler=curriculum_sampler)"
   ],
   "metadata": {
    "collapsed": false,
    "pycharm": {
     "name": "#%%\n"
    }
   }
  },
  {
   "cell_type": "code",
   "execution_count": 24,
   "outputs": [
    {
     "name": "stdout",
     "output_type": "stream",
     "text": [
      "The purple rubber thing has what shape? cube\n",
      "tensor([0.1661, 0.7598, 0.0742], grad_fn=<DivBackward0>)\n",
      "The tiny cube has what color? green\n",
      "tensor([0.0030, 0.0913, 0.1436, 0.0172, 0.0012, 0.6892, 0.0447, 0.0098],\n",
      "       grad_fn=<DivBackward0>)\n",
      "Is there a big matte ball? yes\n",
      "tensor(0.1163, grad_fn=<MaxBackward1>)\n",
      "What is the small yellow thing made of? rubber\n",
      "tensor([0.7366, 0.2634], grad_fn=<DivBackward0>)\n",
      "What is the size of the blue block? large\n",
      "tensor([0.8122, 0.1878], grad_fn=<DivBackward0>)\n",
      "What is the green cylinder made of? metal\n",
      "tensor([0.9218, 0.0782], grad_fn=<DivBackward0>)\n",
      "What is the size of the gray matte object? large\n",
      "tensor([0.6242, 0.3758], grad_fn=<DivBackward0>)\n",
      "There is a small yellow object; what shape is it? sphere\n",
      "tensor([0.0583, 0.6977, 0.2440], grad_fn=<DivBackward0>)\n",
      "Are there any big brown shiny things? yes\n",
      "tensor(0.0043, grad_fn=<MaxBackward1>)\n",
      "The ball has what color? gray\n",
      "tensor([0.0413, 0.1603, 0.1395, 0.0331, 0.0081, 0.5142, 0.0440, 0.0595],\n",
      "       grad_fn=<DivBackward0>)\n",
      "What number of cubes are there? 3\n",
      "tensor(0.4848, grad_fn=<SumBackward0>)\n",
      "The gray rubber object is what shape? sphere\n",
      "tensor([0.0453, 0.8759, 0.0788], grad_fn=<DivBackward0>)\n",
      "What is the color of the rubber cube? blue\n",
      "tensor([0.0454, 0.2506, 0.1060, 0.0134, 0.0065, 0.1649, 0.2517, 0.1616],\n",
      "       grad_fn=<DivBackward0>)\n",
      "The large metal object has what color? cyan\n",
      "tensor([0.0128, 0.1236, 0.0952, 0.0073, 0.0042, 0.5468, 0.1414, 0.0685],\n",
      "       grad_fn=<DivBackward0>)\n",
      "The large block is what color? red\n",
      "tensor([0.0284, 0.0713, 0.1440, 0.0052, 0.0402, 0.1816, 0.0620, 0.4673],\n",
      "       grad_fn=<DivBackward0>)\n",
      "What color is the tiny ball? blue\n",
      "tensor([0.1033, 0.0997, 0.1460, 0.0779, 0.0105, 0.2942, 0.0433, 0.2251],\n",
      "       grad_fn=<DivBackward0>)\n",
      "Is there a tiny blue shiny thing? yes\n",
      "tensor(0.0348, grad_fn=<MaxBackward1>)\n",
      "What number of large shiny cylinders are there? 1\n",
      "tensor(0.0556, grad_fn=<SumBackward0>)\n",
      "What is the big red thing made of? metal\n",
      "tensor([0.7303, 0.2697], grad_fn=<DivBackward0>)\n",
      "The brown object is what size? large\n",
      "tensor([0.5664, 0.4336], grad_fn=<DivBackward0>)\n",
      "What is the material of the big ball? rubber\n",
      "tensor([0.6427, 0.3573], grad_fn=<DivBackward0>)\n",
      "How many tiny blue cubes are there? 0\n",
      "tensor(0.1783, grad_fn=<SumBackward0>)\n",
      "What is the cyan thing made of? metal\n",
      "tensor([0.8197, 0.1803], grad_fn=<DivBackward0>)\n",
      "How big is the purple object? large\n",
      "tensor([0.8939, 0.1061], grad_fn=<DivBackward0>)\n",
      "Are there any brown metallic objects? yes\n",
      "tensor(0.0453, grad_fn=<MaxBackward1>)\n",
      "The blue cube is what size? large\n",
      "tensor([0.6911, 0.3089], grad_fn=<DivBackward0>)\n",
      "How many big blue cylinders are there? 0\n",
      "tensor(0.1062, grad_fn=<SumBackward0>)\n",
      "What material is the purple sphere? metal\n",
      "tensor([0.4245, 0.5755], grad_fn=<DivBackward0>)\n",
      "What color is the cylinder? brown\n",
      "tensor([0.0078, 0.0778, 0.1815, 0.0029, 0.0039, 0.6737, 0.0180, 0.0344],\n",
      "       grad_fn=<DivBackward0>)\n",
      "What is the shape of the red object? sphere\n",
      "tensor([0.0086, 0.9082, 0.0833], grad_fn=<DivBackward0>)\n",
      "What is the material of the large brown thing? metal\n",
      "tensor([0.4564, 0.5436], grad_fn=<DivBackward0>)\n",
      "What is the material of the blue sphere? rubber\n",
      "tensor([0.1115, 0.8885], grad_fn=<DivBackward0>)\n",
      "What is the cyan thing made of? metal\n",
      "tensor([0.8852, 0.1148], grad_fn=<DivBackward0>)\n",
      "What is the color of the large cube? gray\n",
      "tensor([0.0101, 0.2407, 0.1109, 0.0041, 0.0213, 0.0585, 0.4660, 0.0884],\n",
      "       grad_fn=<DivBackward0>)\n",
      "The gray matte object is what shape? sphere\n",
      "tensor([0.1322, 0.6893, 0.1785], grad_fn=<DivBackward0>)\n",
      "What number of large things are there? 2\n",
      "tensor(0.2806, grad_fn=<SumBackward0>)\n",
      "What is the large blue object made of? rubber\n",
      "tensor([0.8697, 0.1303], grad_fn=<DivBackward0>)\n",
      "The metallic block has what color? gray\n",
      "tensor([0.0081, 0.2568, 0.1144, 0.0037, 0.0203, 0.1230, 0.4165, 0.0572],\n",
      "       grad_fn=<DivBackward0>)\n",
      "The red sphere has what size? small\n",
      "tensor([0.6009, 0.3991], grad_fn=<DivBackward0>)\n",
      "How many big purple objects are there? 1\n",
      "tensor(0.2695, grad_fn=<SumBackward0>)\n",
      "What is the shape of the green metal thing? cylinder\n",
      "tensor([0.2361, 0.6721, 0.0917], grad_fn=<DivBackward0>)\n",
      "What color is the big shiny thing? green\n",
      "tensor([0.0068, 0.1976, 0.1215, 0.0021, 0.0063, 0.2936, 0.3259, 0.0462],\n",
      "       grad_fn=<DivBackward0>)\n",
      "The small metal object is what color? brown\n",
      "tensor([0.0166, 0.1361, 0.0506, 0.0120, 0.0472, 0.1390, 0.4978, 0.1006],\n",
      "       grad_fn=<DivBackward0>)\n",
      "What color is the large sphere? green\n",
      "tensor([0.0102, 0.1088, 0.2518, 0.0098, 0.0045, 0.4133, 0.1446, 0.0571],\n",
      "       grad_fn=<DivBackward0>)\n",
      "Are there any tiny gray rubber things? yes\n",
      "tensor(0.0221, grad_fn=<MaxBackward1>)\n",
      "How big is the blue cube? large\n",
      "tensor([0.7922, 0.2078], grad_fn=<DivBackward0>)\n",
      "The matte ball has what size? small\n",
      "tensor([0.7027, 0.2973], grad_fn=<DivBackward0>)\n",
      "How big is the brown matte thing? large\n",
      "tensor([0.4179, 0.5821], grad_fn=<DivBackward0>)\n",
      "Are there any brown metal cylinders? no\n",
      "tensor(0.0045, grad_fn=<MaxBackward1>)\n",
      "What number of tiny shiny things are there? 2\n",
      "tensor(0.1585, grad_fn=<SumBackward0>)\n",
      "What material is the tiny thing? rubber\n",
      "tensor([0.9016, 0.0984], grad_fn=<DivBackward0>)\n",
      "What color is the tiny cylinder? gray\n",
      "tensor([0.0104, 0.0796, 0.3126, 0.0054, 0.0137, 0.5517, 0.0078, 0.0187],\n",
      "       grad_fn=<DivBackward0>)\n",
      "Are any matte balls visible? yes\n",
      "tensor(0.5676, grad_fn=<MaxBackward1>)\n",
      "There is a blue object; what shape is it? cube\n",
      "tensor([0.2021, 0.7621, 0.0358], grad_fn=<DivBackward0>)\n",
      "How many big rubber objects are there? 1\n",
      "tensor(0.1461, grad_fn=<SumBackward0>)\n",
      "Are any tiny things visible? yes\n",
      "tensor(0.7386, grad_fn=<MaxBackward1>)\n",
      "What is the shape of the tiny rubber object? sphere\n",
      "tensor([0.1959, 0.6418, 0.1623], grad_fn=<DivBackward0>)\n",
      "What is the shape of the tiny green object? sphere\n",
      "tensor([0.0279, 0.8869, 0.0852], grad_fn=<DivBackward0>)\n",
      "Are any yellow rubber things visible? yes\n",
      "tensor(0.0244, grad_fn=<MaxBackward1>)\n",
      "What number of small blue balls are there? 1\n",
      "tensor(0.1491, grad_fn=<SumBackward0>)\n",
      "How big is the red shiny object? large\n",
      "tensor([0.8296, 0.1704], grad_fn=<DivBackward0>)\n",
      "The big rubber object is what color? purple\n",
      "tensor([0.0071, 0.1706, 0.1216, 0.0038, 0.0088, 0.0876, 0.3899, 0.2106],\n",
      "       grad_fn=<DivBackward0>)\n",
      "There is a small yellow object; what shape is it? cube\n",
      "tensor([0.1088, 0.7532, 0.1379], grad_fn=<DivBackward0>)\n",
      "Are any cyan cylinders visible? no\n",
      "tensor(0.1052, grad_fn=<MaxBackward1>)\n",
      "There is a small shiny thing; what shape is it? cube\n",
      "tensor([0.0445, 0.7642, 0.1914], grad_fn=<DivBackward0>)\n",
      "The large gray object has what shape? cylinder\n",
      "tensor([0.1195, 0.7935, 0.0870], grad_fn=<DivBackward0>)\n",
      "What shape is the small rubber thing? sphere\n",
      "tensor([0.2002, 0.7292, 0.0705], grad_fn=<DivBackward0>)\n",
      "The matte sphere has what size? small\n",
      "tensor([0.7610, 0.2390], grad_fn=<DivBackward0>)\n",
      "How big is the brown cube? small\n",
      "tensor([0.8622, 0.1378], grad_fn=<DivBackward0>)\n",
      "The small gray thing is what shape? cube\n",
      "tensor([0.0806, 0.8204, 0.0990], grad_fn=<DivBackward0>)\n",
      "What is the shape of the brown rubber thing? cube\n",
      "tensor([0.0552, 0.7978, 0.1470], grad_fn=<DivBackward0>)\n",
      "What is the color of the tiny block? brown\n",
      "tensor([0.0081, 0.1399, 0.1790, 0.0047, 0.0035, 0.3557, 0.2342, 0.0748],\n",
      "       grad_fn=<DivBackward0>)\n",
      "Are any red shiny things visible? yes\n",
      "tensor(0.0443, grad_fn=<MaxBackward1>)\n",
      "The big red thing is what shape? cube\n",
      "tensor([0.0992, 0.7577, 0.1431], grad_fn=<DivBackward0>)\n",
      "What size is the rubber cylinder? small\n",
      "tensor([0.8963, 0.1037], grad_fn=<DivBackward0>)\n",
      "What number of tiny matte cylinders are there? 1\n",
      "tensor(0.3524, grad_fn=<SumBackward0>)\n",
      "What is the shape of the brown thing? sphere\n",
      "tensor([0.0340, 0.7828, 0.1832], grad_fn=<DivBackward0>)\n",
      "The yellow thing has what shape? cube\n",
      "tensor([0.1962, 0.7422, 0.0616], grad_fn=<DivBackward0>)\n",
      "The tiny block is what color? purple\n",
      "tensor([0.0123, 0.2563, 0.1805, 0.0027, 0.0206, 0.1520, 0.1840, 0.1917],\n",
      "       grad_fn=<DivBackward0>)\n",
      "Are there any things? yes\n",
      "tensor(1.)\n",
      "What is the shape of the small green thing? cylinder\n",
      "tensor([0.0326, 0.9132, 0.0542], grad_fn=<DivBackward0>)\n",
      "What is the material of the tiny brown thing? metal\n",
      "tensor([0.9367, 0.0633], grad_fn=<DivBackward0>)\n",
      "What is the shape of the gray thing? sphere\n",
      "tensor([0.0791, 0.6371, 0.2839], grad_fn=<DivBackward0>)\n",
      "What is the color of the matte cylinder? gray\n",
      "tensor([0.0057, 0.0586, 0.0660, 0.0038, 0.0023, 0.7480, 0.0772, 0.0385],\n",
      "       grad_fn=<DivBackward0>)\n",
      "Is there a large metal thing? yes\n",
      "tensor(0.0312, grad_fn=<MaxBackward1>)\n",
      "The metal cylinder is what color? purple\n",
      "tensor([0.0147, 0.3698, 0.1772, 0.0220, 0.0036, 0.1685, 0.1989, 0.0452],\n",
      "       grad_fn=<DivBackward0>)\n",
      "What is the cyan cube made of? rubber\n",
      "tensor([0.9642, 0.0358], grad_fn=<DivBackward0>)\n",
      "How many large shiny balls are there? 1\n",
      "tensor(0.1132, grad_fn=<SumBackward0>)\n",
      "There is a cyan shiny object; what shape is it? cylinder\n",
      "tensor([0.1104, 0.7224, 0.1672], grad_fn=<DivBackward0>)\n",
      "What shape is the matte object? cube\n",
      "tensor([0.1065, 0.7894, 0.1041], grad_fn=<DivBackward0>)\n",
      "Are any rubber cylinders visible? no\n",
      "tensor(0.4252, grad_fn=<MaxBackward1>)\n",
      "What number of yellow metallic cylinders are there? 0\n",
      "tensor(0.0559, grad_fn=<SumBackward0>)\n",
      "Is there a tiny purple ball? yes\n",
      "tensor(0.2440, grad_fn=<MaxBackward1>)\n",
      "What is the color of the tiny shiny object? brown\n",
      "tensor([0.0125, 0.0597, 0.1449, 0.0078, 0.0050, 0.6593, 0.0462, 0.0646],\n",
      "       grad_fn=<DivBackward0>)\n",
      "The gray metallic thing has what shape? sphere\n",
      "tensor([0.0796, 0.8648, 0.0556], grad_fn=<DivBackward0>)\n",
      "How many cubes are there? 0\n",
      "tensor(0.2943, grad_fn=<SumBackward0>)\n",
      "How many rubber cubes are there? 2\n",
      "tensor(0.5555, grad_fn=<SumBackward0>)\n",
      "What number of purple metallic objects are there? 1\n",
      "tensor(0.0733, grad_fn=<SumBackward0>)\n",
      "What number of large gray spheres are there? 1\n",
      "tensor(0.0164, grad_fn=<SumBackward0>)\n",
      "What material is the cylinder? rubber\n",
      "tensor([0.9483, 0.0517], grad_fn=<DivBackward0>)\n"
     ]
    }
   ],
   "source": [
    "model = NSCLModule(CLEVRDefinition.attribute_concept_map)\n",
    "\n",
    "for images, questions, scenes in data_loader:\n",
    "    results = model(images, questions, scenes)\n",
    "    for i, q in enumerate(questions):\n",
    "        print(q.raw_question, q.answer)\n",
    "        print(results[i])\n",
    "    break\n"
   ],
   "metadata": {
    "collapsed": false,
    "pycharm": {
     "name": "#%%\n"
    }
   }
  }
 ],
 "metadata": {
  "kernelspec": {
   "display_name": "Python 3",
   "language": "python",
   "name": "python3"
  },
  "language_info": {
   "codemirror_mode": {
    "name": "ipython",
    "version": 2
   },
   "file_extension": ".py",
   "mimetype": "text/x-python",
   "name": "python",
   "nbconvert_exporter": "python",
   "pygments_lexer": "ipython2",
   "version": "2.7.6"
  }
 },
 "nbformat": 4,
 "nbformat_minor": 0
}