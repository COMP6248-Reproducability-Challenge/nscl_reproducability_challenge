{
 "cells": [
  {
   "cell_type": "code",
   "execution_count": 1,
   "metadata": {},
   "outputs": [],
   "source": [
    "%load_ext autoreload\n",
    "%autoreload 2\n",
    "\n",
    "import os\n",
    "import os.path as osp\n",
    "\n",
    "from nscl.datasets.clevr_dataset import build_clevr_dataset, build_clevr_dataloader, CLEVRCurriculumSampler\n",
    "from nscl.datasets.clevr_definition import CLEVRDefinition, QuestionTypes\n",
    "from nscl.models.nscl_module import NSCLModule"
   ]
  },
  {
   "cell_type": "code",
   "execution_count": 2,
   "metadata": {
    "pycharm": {
     "name": "#%%\n"
    }
   },
   "outputs": [],
   "source": [
    "train_img_root = osp.abspath(osp.dirname(os.getcwd())) + '/data/CLEVR_v1.0/images/train'\n",
    "train_scene_json = osp.abspath(osp.dirname(os.getcwd())) + '/data/CLEVR_v1.0/scenes/train/scenes.json'\n",
    "train_question_json = osp.abspath(osp.dirname(os.getcwd())) + '/data/CLEVR_v1.0/questions/CLEVR_train_questions.json'"
   ]
  },
  {
   "cell_type": "code",
   "execution_count": 3,
   "metadata": {
    "pycharm": {
     "name": "#%%\n"
    }
   },
   "outputs": [
    {
     "name": "stdout",
     "output_type": "stream",
     "text": [
      "loading scenes from: /Users/mark/Projects/nscl_reproducability_challenge/data/CLEVR_v1.0/scenes/train/scenes.json\n",
      "loading questions from: /Users/mark/Projects/nscl_reproducability_challenge/data/CLEVR_v1.0/questions/CLEVR_train_questions.json\n"
     ]
    }
   ],
   "source": [
    "batch_size = 100\n",
    "num_workers = 4\n",
    "dataset = build_clevr_dataset(train_img_root, train_scene_json, train_question_json)"
   ]
  },
  {
   "cell_type": "code",
   "execution_count": 4,
   "metadata": {
    "pycharm": {
     "name": "#%%\n"
    }
   },
   "outputs": [
    {
     "name": "stdout",
     "output_type": "stream",
     "text": [
      "Preparing curriculum sampler....\n"
     ]
    }
   ],
   "source": [
    "curriculum_sampler = CLEVRCurriculumSampler(dataset, max_scene_size=5, max_program_size=5, max_data_size=1000)\n",
    "data_loader = build_clevr_dataloader(dataset, batch_size=batch_size, num_workers=num_workers, shuffle=False,\n",
    "                                     drop_last=False, sampler=curriculum_sampler)"
   ]
  },
  {
   "cell_type": "code",
   "execution_count": 5,
   "metadata": {
    "pycharm": {
     "name": "#%%\n"
    }
   },
   "outputs": [
    {
     "data": {
      "text/plain": "HBox(children=(FloatProgress(value=0.0, description='train', max=2.0, style=ProgressStyle(description_width='i…",
      "application/vnd.jupyter.widget-view+json": {
       "version_major": 2,
       "version_minor": 0,
       "model_id": "8a2e14daaf404061bb776b8f802c929c"
      }
     },
     "metadata": {},
     "output_type": "display_data"
    },
    {
     "name": "stdout",
     "output_type": "stream",
     "text": [
      "\n",
      "\n",
      "\n",
      "\n",
      "\n",
      "\n",
      "\n",
      "\n",
      "\n",
      "\n"
     ]
    },
    {
     "data": {
      "text/plain": "HBox(children=(FloatProgress(value=0.0, description='train', max=2.0, style=ProgressStyle(description_width='i…",
      "application/vnd.jupyter.widget-view+json": {
       "version_major": 2,
       "version_minor": 0,
       "model_id": "3663d7d7c768476d9a217f5a24b3e5c2"
      }
     },
     "metadata": {},
     "output_type": "display_data"
    },
    {
     "data": {
      "text/plain": "HBox(children=(FloatProgress(value=0.0, description='train', max=2.0, style=ProgressStyle(description_width='i…",
      "application/vnd.jupyter.widget-view+json": {
       "version_major": 2,
       "version_minor": 0,
       "model_id": "321f704aef984b07b296a41f382e62fc"
      }
     },
     "metadata": {},
     "output_type": "display_data"
    },
    {
     "data": {
      "text/plain": "HBox(children=(FloatProgress(value=0.0, description='train', max=2.0, style=ProgressStyle(description_width='i…",
      "application/vnd.jupyter.widget-view+json": {
       "version_major": 2,
       "version_minor": 0,
       "model_id": "366ceabaedc648788739def881ffb3dd"
      }
     },
     "metadata": {},
     "output_type": "display_data"
    },
    {
     "data": {
      "text/plain": "HBox(children=(FloatProgress(value=0.0, description='train', max=2.0, style=ProgressStyle(description_width='i…",
      "application/vnd.jupyter.widget-view+json": {
       "version_major": 2,
       "version_minor": 0,
       "model_id": "3e82c556ef8849f79494cb8d63cef0d0"
      }
     },
     "metadata": {},
     "output_type": "display_data"
    },
    {
     "data": {
      "text/plain": "HBox(children=(FloatProgress(value=0.0, description='train', max=2.0, style=ProgressStyle(description_width='i…",
      "application/vnd.jupyter.widget-view+json": {
       "version_major": 2,
       "version_minor": 0,
       "model_id": "6b32386c18a54e65871f5ace678ac551"
      }
     },
     "metadata": {},
     "output_type": "display_data"
    },
    {
     "data": {
      "text/plain": "HBox(children=(FloatProgress(value=0.0, description='train', max=2.0, style=ProgressStyle(description_width='i…",
      "application/vnd.jupyter.widget-view+json": {
       "version_major": 2,
       "version_minor": 0,
       "model_id": "e95f7157eb244b06bb09cf5aea34a0a2"
      }
     },
     "metadata": {},
     "output_type": "display_data"
    },
    {
     "data": {
      "text/plain": "HBox(children=(FloatProgress(value=0.0, description='train', max=2.0, style=ProgressStyle(description_width='i…",
      "application/vnd.jupyter.widget-view+json": {
       "version_major": 2,
       "version_minor": 0,
       "model_id": "823fc5bee35642b98e533515e5b6ecbe"
      }
     },
     "metadata": {},
     "output_type": "display_data"
    },
    {
     "data": {
      "text/plain": "HBox(children=(FloatProgress(value=0.0, description='train', max=2.0, style=ProgressStyle(description_width='i…",
      "application/vnd.jupyter.widget-view+json": {
       "version_major": 2,
       "version_minor": 0,
       "model_id": "f86b898930ec4fd79e59b9baa9434bf5"
      }
     },
     "metadata": {},
     "output_type": "display_data"
    },
    {
     "data": {
      "text/plain": "HBox(children=(FloatProgress(value=0.0, description='train', max=2.0, style=ProgressStyle(description_width='i…",
      "application/vnd.jupyter.widget-view+json": {
       "version_major": 2,
       "version_minor": 0,
       "model_id": "58866e525daa4d39ba9e1939cb899a80"
      }
     },
     "metadata": {},
     "output_type": "display_data"
    }
   ],
   "source": [
    "import torch\n",
    "from torch import nn\n",
    "from torch import optim\n",
    "from tqdm.autonotebook import tqdm\n",
    "\n",
    "device = \"cuda:0\" if torch.cuda.is_available() else \"cpu\"\n",
    "epoch = 10\n",
    "model = NSCLModule(CLEVRDefinition.attribute_concept_map).to(device)\n",
    "mse_loss = nn.MSELoss()\n",
    "bce_loss = nn.BCELoss()\n",
    "ce_loss = nn.CrossEntropyLoss()\n",
    "\n",
    "opt = optim.Adam(filter(lambda p: p.requires_grad, model.parameters()), lr=0.01)\n",
    "\n",
    "for e in range(epoch):\n",
    "    model.train()\n",
    "    with tqdm(total=len(data_loader), desc='train') as t:\n",
    "        epoch_loss = 0\n",
    "        for idx, (images, questions, scenes) in enumerate(data_loader):\n",
    "            opt.zero_grad()\n",
    "            results = model(images.to(device), questions, scenes)\n",
    "            total_loss = torch.tensor(0.0, requires_grad=True, dtype=torch.float)\n",
    "            for i, q in enumerate(questions):\n",
    "                if q.question_type == QuestionTypes.COUNT:\n",
    "                    loss = mse_loss(results[i], q.answer_tensor)\n",
    "                elif q.question_type == QuestionTypes.BOOLEAN:\n",
    "                    loss = bce_loss(results[i], q.answer_tensor)\n",
    "                else:\n",
    "                    loss = bce_loss(results[i], q.answer_tensor)\n",
    "    \n",
    "                total_loss = total_loss + loss\n",
    "    \n",
    "            total_loss.backward()\n",
    "            opt.step()\n",
    "            epoch_loss = (epoch_loss * idx + total_loss.item()) / (idx + 1)\n",
    "            t.set_postfix(loss='{:05.3f}'.format(epoch_loss))\n",
    "            t.update()\n"
   ]
  }
 ],
 "metadata": {
  "kernelspec": {
   "display_name": "Python 3",
   "language": "python",
   "name": "python3"
  },
  "language_info": {
   "codemirror_mode": {
    "name": "ipython",
    "version": 3
   },
   "file_extension": ".py",
   "mimetype": "text/x-python",
   "name": "python",
   "nbconvert_exporter": "python",
   "pygments_lexer": "ipython3",
   "version": "3.7.7"
  }
 },
 "nbformat": 4,
 "nbformat_minor": 1
}