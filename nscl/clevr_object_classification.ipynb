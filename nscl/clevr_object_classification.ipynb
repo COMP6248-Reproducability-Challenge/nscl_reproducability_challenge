{
 "cells": [
  {
   "cell_type": "code",
   "execution_count": 1,
   "metadata": {
    "pycharm": {
     "name": "#%%\n"
    }
   },
   "outputs": [],
   "source": [
    "%load_ext autoreload\n",
    "%autoreload 2"
   ]
  },
  {
   "cell_type": "code",
   "execution_count": 2,
   "metadata": {},
   "outputs": [],
   "source": [
    "import os\n",
    "import os.path as osp\n",
    "\n",
    "import matplotlib.pyplot as plt\n",
    "import numpy as np\n",
    "import pytorch_lightning as pl\n",
    "import torch\n",
    "from torch import nn\n",
    "from torch import optim\n",
    "from torch.utils.data import DataLoader\n",
    "from torchvision import transforms\n",
    "from torchvision.models import resnet34\n",
    "\n",
    "from nscl.clevr_object_dataset import CLEVRObjectDataset\n"
   ]
  },
  {
   "cell_type": "code",
   "execution_count": 3,
   "metadata": {},
   "outputs": [],
   "source": [
    "#fix random seed\n",
    "os.environ['PYTHONHASHSEED'] = '0'\n",
    "np.random.seed(42)\n",
    "torch.manual_seed(2019)\n",
    "torch.cuda.manual_seed(2019)\n",
    "torch.cuda.manual_seed_all(2019)\n",
    "torch.backends.cudnn.deterministic = True"
   ]
  },
  {
   "cell_type": "markdown",
   "metadata": {
    "pycharm": {
     "name": "#%% md\n"
    }
   },
   "source": [
    "### Prepare Data"
   ]
  },
  {
   "cell_type": "code",
   "execution_count": 4,
   "metadata": {
    "pycharm": {
     "name": "#%%\n"
    }
   },
   "outputs": [],
   "source": [
    "# average obj size [56.586 62.133]\n",
    "img_preprocess = transforms.Compose([\n",
    "    # transforms.Grayscale(),\n",
    "    transforms.Resize(60),\n",
    "    transforms.CenterCrop(60),\n",
    "    transforms.ToTensor()\n",
    "])\n",
    "\n",
    "train_img_root = os.path.abspath(osp.dirname(os.getcwd())) + '/data/CLEVR_v1.0/images/train'\n",
    "train_scene_json = os.path.abspath(osp.dirname(os.getcwd())) + '/data/CLEVR_v1.0/scenes/train_scenes.json'\n",
    "val_img_root = os.path.abspath(osp.dirname(os.getcwd())) + '/data/CLEVR_v1.0/images/val'\n",
    "val_scene_json = os.path.abspath(osp.dirname(os.getcwd())) + '/data/CLEVR_v1.0/scenes/val_scenes.json'\n",
    "\n",
    "train_dataset = CLEVRObjectDataset(train_img_root, train_scene_json, img_transform=img_preprocess, max_size=1000)\n",
    "test_dataset = CLEVRObjectDataset(train_img_root, train_scene_json, img_transform=img_preprocess, max_size=100)\n",
    "\n",
    "train_loader = DataLoader(train_dataset, batch_size=128, shuffle=True)\n",
    "val_loader = DataLoader(test_dataset, batch_size=128, shuffle=True)"
   ]
  },
  {
   "cell_type": "markdown",
   "metadata": {
    "pycharm": {
     "name": "#%% md\n"
    }
   },
   "source": [
    "### Model"
   ]
  },
  {
   "cell_type": "code",
   "execution_count": 5,
   "metadata": {
    "pycharm": {
     "name": "#%% \n"
    }
   },
   "outputs": [
    {
     "data": {
      "text/plain": "ResNet(\n  (conv1): Conv2d(3, 64, kernel_size=(7, 7), stride=(2, 2), padding=(3, 3), bias=False)\n  (bn1): BatchNorm2d(64, eps=1e-05, momentum=0.1, affine=True, track_running_stats=True)\n  (relu): ReLU(inplace=True)\n  (maxpool): MaxPool2d(kernel_size=3, stride=2, padding=1, dilation=1, ceil_mode=False)\n  (layer1): Sequential(\n    (0): BasicBlock(\n      (conv1): Conv2d(64, 64, kernel_size=(3, 3), stride=(1, 1), padding=(1, 1), bias=False)\n      (bn1): BatchNorm2d(64, eps=1e-05, momentum=0.1, affine=True, track_running_stats=True)\n      (relu): ReLU(inplace=True)\n      (conv2): Conv2d(64, 64, kernel_size=(3, 3), stride=(1, 1), padding=(1, 1), bias=False)\n      (bn2): BatchNorm2d(64, eps=1e-05, momentum=0.1, affine=True, track_running_stats=True)\n    )\n    (1): BasicBlock(\n      (conv1): Conv2d(64, 64, kernel_size=(3, 3), stride=(1, 1), padding=(1, 1), bias=False)\n      (bn1): BatchNorm2d(64, eps=1e-05, momentum=0.1, affine=True, track_running_stats=True)\n      (relu): ReLU(inplace=True)\n      (conv2): Conv2d(64, 64, kernel_size=(3, 3), stride=(1, 1), padding=(1, 1), bias=False)\n      (bn2): BatchNorm2d(64, eps=1e-05, momentum=0.1, affine=True, track_running_stats=True)\n    )\n    (2): BasicBlock(\n      (conv1): Conv2d(64, 64, kernel_size=(3, 3), stride=(1, 1), padding=(1, 1), bias=False)\n      (bn1): BatchNorm2d(64, eps=1e-05, momentum=0.1, affine=True, track_running_stats=True)\n      (relu): ReLU(inplace=True)\n      (conv2): Conv2d(64, 64, kernel_size=(3, 3), stride=(1, 1), padding=(1, 1), bias=False)\n      (bn2): BatchNorm2d(64, eps=1e-05, momentum=0.1, affine=True, track_running_stats=True)\n    )\n  )\n  (layer2): Sequential(\n    (0): BasicBlock(\n      (conv1): Conv2d(64, 128, kernel_size=(3, 3), stride=(2, 2), padding=(1, 1), bias=False)\n      (bn1): BatchNorm2d(128, eps=1e-05, momentum=0.1, affine=True, track_running_stats=True)\n      (relu): ReLU(inplace=True)\n      (conv2): Conv2d(128, 128, kernel_size=(3, 3), stride=(1, 1), padding=(1, 1), bias=False)\n      (bn2): BatchNorm2d(128, eps=1e-05, momentum=0.1, affine=True, track_running_stats=True)\n      (downsample): Sequential(\n        (0): Conv2d(64, 128, kernel_size=(1, 1), stride=(2, 2), bias=False)\n        (1): BatchNorm2d(128, eps=1e-05, momentum=0.1, affine=True, track_running_stats=True)\n      )\n    )\n    (1): BasicBlock(\n      (conv1): Conv2d(128, 128, kernel_size=(3, 3), stride=(1, 1), padding=(1, 1), bias=False)\n      (bn1): BatchNorm2d(128, eps=1e-05, momentum=0.1, affine=True, track_running_stats=True)\n      (relu): ReLU(inplace=True)\n      (conv2): Conv2d(128, 128, kernel_size=(3, 3), stride=(1, 1), padding=(1, 1), bias=False)\n      (bn2): BatchNorm2d(128, eps=1e-05, momentum=0.1, affine=True, track_running_stats=True)\n    )\n    (2): BasicBlock(\n      (conv1): Conv2d(128, 128, kernel_size=(3, 3), stride=(1, 1), padding=(1, 1), bias=False)\n      (bn1): BatchNorm2d(128, eps=1e-05, momentum=0.1, affine=True, track_running_stats=True)\n      (relu): ReLU(inplace=True)\n      (conv2): Conv2d(128, 128, kernel_size=(3, 3), stride=(1, 1), padding=(1, 1), bias=False)\n      (bn2): BatchNorm2d(128, eps=1e-05, momentum=0.1, affine=True, track_running_stats=True)\n    )\n    (3): BasicBlock(\n      (conv1): Conv2d(128, 128, kernel_size=(3, 3), stride=(1, 1), padding=(1, 1), bias=False)\n      (bn1): BatchNorm2d(128, eps=1e-05, momentum=0.1, affine=True, track_running_stats=True)\n      (relu): ReLU(inplace=True)\n      (conv2): Conv2d(128, 128, kernel_size=(3, 3), stride=(1, 1), padding=(1, 1), bias=False)\n      (bn2): BatchNorm2d(128, eps=1e-05, momentum=0.1, affine=True, track_running_stats=True)\n    )\n  )\n  (layer3): Sequential(\n    (0): BasicBlock(\n      (conv1): Conv2d(128, 256, kernel_size=(3, 3), stride=(2, 2), padding=(1, 1), bias=False)\n      (bn1): BatchNorm2d(256, eps=1e-05, momentum=0.1, affine=True, track_running_stats=True)\n      (relu): ReLU(inplace=True)\n      (conv2): Conv2d(256, 256, kernel_size=(3, 3), stride=(1, 1), padding=(1, 1), bias=False)\n      (bn2): BatchNorm2d(256, eps=1e-05, momentum=0.1, affine=True, track_running_stats=True)\n      (downsample): Sequential(\n        (0): Conv2d(128, 256, kernel_size=(1, 1), stride=(2, 2), bias=False)\n        (1): BatchNorm2d(256, eps=1e-05, momentum=0.1, affine=True, track_running_stats=True)\n      )\n    )\n    (1): BasicBlock(\n      (conv1): Conv2d(256, 256, kernel_size=(3, 3), stride=(1, 1), padding=(1, 1), bias=False)\n      (bn1): BatchNorm2d(256, eps=1e-05, momentum=0.1, affine=True, track_running_stats=True)\n      (relu): ReLU(inplace=True)\n      (conv2): Conv2d(256, 256, kernel_size=(3, 3), stride=(1, 1), padding=(1, 1), bias=False)\n      (bn2): BatchNorm2d(256, eps=1e-05, momentum=0.1, affine=True, track_running_stats=True)\n    )\n    (2): BasicBlock(\n      (conv1): Conv2d(256, 256, kernel_size=(3, 3), stride=(1, 1), padding=(1, 1), bias=False)\n      (bn1): BatchNorm2d(256, eps=1e-05, momentum=0.1, affine=True, track_running_stats=True)\n      (relu): ReLU(inplace=True)\n      (conv2): Conv2d(256, 256, kernel_size=(3, 3), stride=(1, 1), padding=(1, 1), bias=False)\n      (bn2): BatchNorm2d(256, eps=1e-05, momentum=0.1, affine=True, track_running_stats=True)\n    )\n    (3): BasicBlock(\n      (conv1): Conv2d(256, 256, kernel_size=(3, 3), stride=(1, 1), padding=(1, 1), bias=False)\n      (bn1): BatchNorm2d(256, eps=1e-05, momentum=0.1, affine=True, track_running_stats=True)\n      (relu): ReLU(inplace=True)\n      (conv2): Conv2d(256, 256, kernel_size=(3, 3), stride=(1, 1), padding=(1, 1), bias=False)\n      (bn2): BatchNorm2d(256, eps=1e-05, momentum=0.1, affine=True, track_running_stats=True)\n    )\n    (4): BasicBlock(\n      (conv1): Conv2d(256, 256, kernel_size=(3, 3), stride=(1, 1), padding=(1, 1), bias=False)\n      (bn1): BatchNorm2d(256, eps=1e-05, momentum=0.1, affine=True, track_running_stats=True)\n      (relu): ReLU(inplace=True)\n      (conv2): Conv2d(256, 256, kernel_size=(3, 3), stride=(1, 1), padding=(1, 1), bias=False)\n      (bn2): BatchNorm2d(256, eps=1e-05, momentum=0.1, affine=True, track_running_stats=True)\n    )\n    (5): BasicBlock(\n      (conv1): Conv2d(256, 256, kernel_size=(3, 3), stride=(1, 1), padding=(1, 1), bias=False)\n      (bn1): BatchNorm2d(256, eps=1e-05, momentum=0.1, affine=True, track_running_stats=True)\n      (relu): ReLU(inplace=True)\n      (conv2): Conv2d(256, 256, kernel_size=(3, 3), stride=(1, 1), padding=(1, 1), bias=False)\n      (bn2): BatchNorm2d(256, eps=1e-05, momentum=0.1, affine=True, track_running_stats=True)\n    )\n  )\n  (layer4): Sequential(\n    (0): BasicBlock(\n      (conv1): Conv2d(256, 512, kernel_size=(3, 3), stride=(2, 2), padding=(1, 1), bias=False)\n      (bn1): BatchNorm2d(512, eps=1e-05, momentum=0.1, affine=True, track_running_stats=True)\n      (relu): ReLU(inplace=True)\n      (conv2): Conv2d(512, 512, kernel_size=(3, 3), stride=(1, 1), padding=(1, 1), bias=False)\n      (bn2): BatchNorm2d(512, eps=1e-05, momentum=0.1, affine=True, track_running_stats=True)\n      (downsample): Sequential(\n        (0): Conv2d(256, 512, kernel_size=(1, 1), stride=(2, 2), bias=False)\n        (1): BatchNorm2d(512, eps=1e-05, momentum=0.1, affine=True, track_running_stats=True)\n      )\n    )\n    (1): BasicBlock(\n      (conv1): Conv2d(512, 512, kernel_size=(3, 3), stride=(1, 1), padding=(1, 1), bias=False)\n      (bn1): BatchNorm2d(512, eps=1e-05, momentum=0.1, affine=True, track_running_stats=True)\n      (relu): ReLU(inplace=True)\n      (conv2): Conv2d(512, 512, kernel_size=(3, 3), stride=(1, 1), padding=(1, 1), bias=False)\n      (bn2): BatchNorm2d(512, eps=1e-05, momentum=0.1, affine=True, track_running_stats=True)\n    )\n    (2): BasicBlock(\n      (conv1): Conv2d(512, 512, kernel_size=(3, 3), stride=(1, 1), padding=(1, 1), bias=False)\n      (bn1): BatchNorm2d(512, eps=1e-05, momentum=0.1, affine=True, track_running_stats=True)\n      (relu): ReLU(inplace=True)\n      (conv2): Conv2d(512, 512, kernel_size=(3, 3), stride=(1, 1), padding=(1, 1), bias=False)\n      (bn2): BatchNorm2d(512, eps=1e-05, momentum=0.1, affine=True, track_running_stats=True)\n    )\n  )\n  (avgpool): AdaptiveAvgPool2d(output_size=(1, 1))\n  (fc): Linear(in_features=512, out_features=3, bias=True)\n)"
     },
     "execution_count": 5,
     "metadata": {},
     "output_type": "execute_result"
    }
   ],
   "source": [
    "model = resnet34(pretrained=True)\n",
    "model.fc = nn.Linear(512, len(train_dataset.classes))\n",
    "model"
   ]
  },
  {
   "cell_type": "code",
   "execution_count": 6,
   "metadata": {},
   "outputs": [],
   "source": [
    "# Freeze layers by not tracking gradients\n",
    "for param in model.parameters():\n",
    "    param.requires_grad = False\n",
    "model.fc.weight.requires_grad = True #unfreeze last layer weights\n",
    "model.fc.bias.requires_grad = True #unfreeze last layer biases"
   ]
  },
  {
   "cell_type": "markdown",
   "metadata": {},
   "source": [
    "### Lightning Model"
   ]
  },
  {
   "cell_type": "code",
   "execution_count": 7,
   "metadata": {},
   "outputs": [],
   "source": [
    "class CLEVRObjectModel(pl.LightningModule):\n",
    "\n",
    "    def __init__(self):\n",
    "        super(CLEVRObjectModel, self).__init__()\n",
    "        self.train_loader = train_loader\n",
    "        self.val_loader = val_loader\n",
    "        self.model = model\n",
    "        self.criteria = nn.CrossEntropyLoss()\n",
    "\n",
    "    def forward(self, x):\n",
    "        return self.model(x)\n",
    "\n",
    "    def training_step(self, batch, batch_nb):\n",
    "        x, y = batch\n",
    "        y_hat = self(x)\n",
    "        loss = self.criteria(y_hat, y)\n",
    "        return {'loss': loss}\n",
    "\n",
    "    def validation_step(self, batch, batch_nb):\n",
    "        x, y = batch\n",
    "        y_hat = self(x)\n",
    "        val_loss = self.criteria(y_hat, y)\n",
    "        return {'val_loss': val_loss}\n",
    "\n",
    "    def configure_optimizers(self):\n",
    "        optimizer = optim.Adam(filter(lambda p: p.requires_grad, model.parameters()), lr=1e-3) #only optimise non-frozen layers\n",
    "        return optimizer\n",
    "\n",
    "    def train_dataloader(self):\n",
    "        return self.train_loader\n",
    "\n",
    "    def val_dataloader(self):\n",
    "        return self.val_loader"
   ]
  },
  {
   "cell_type": "markdown",
   "metadata": {},
   "source": [
    "### Training"
   ]
  },
  {
   "cell_type": "code",
   "execution_count": 8,
   "metadata": {
    "pycharm": {
     "name": "#%%\n"
    }
   },
   "outputs": [
    {
     "name": "stderr",
     "output_type": "stream",
     "text": [
      "/Users/mark/.conda/envs/nscl_reproducability_challenge/lib/python3.7/site-packages/pytorch_lightning/utilities/warnings.py:18: RuntimeWarning: You have defined a `val_dataloader()` and have defined a `validation_step()`, you may also want to define `validation_epoch_end()` for accumulating stats.\n",
      "  warnings.warn(*args, **kwargs)\n",
      "INFO:lightning:\n",
      "    | Name                        | Type              | Params\n",
      "--------------------------------------------------------------\n",
      "0   | model                       | ResNet            | 21 M  \n",
      "1   | model.conv1                 | Conv2d            | 9 K   \n",
      "2   | model.bn1                   | BatchNorm2d       | 128   \n",
      "3   | model.relu                  | ReLU              | 0     \n",
      "4   | model.maxpool               | MaxPool2d         | 0     \n",
      "5   | model.layer1                | Sequential        | 221 K \n",
      "6   | model.layer1.0              | BasicBlock        | 73 K  \n",
      "7   | model.layer1.0.conv1        | Conv2d            | 36 K  \n",
      "8   | model.layer1.0.bn1          | BatchNorm2d       | 128   \n",
      "9   | model.layer1.0.relu         | ReLU              | 0     \n",
      "10  | model.layer1.0.conv2        | Conv2d            | 36 K  \n",
      "11  | model.layer1.0.bn2          | BatchNorm2d       | 128   \n",
      "12  | model.layer1.1              | BasicBlock        | 73 K  \n",
      "13  | model.layer1.1.conv1        | Conv2d            | 36 K  \n",
      "14  | model.layer1.1.bn1          | BatchNorm2d       | 128   \n",
      "15  | model.layer1.1.relu         | ReLU              | 0     \n",
      "16  | model.layer1.1.conv2        | Conv2d            | 36 K  \n",
      "17  | model.layer1.1.bn2          | BatchNorm2d       | 128   \n",
      "18  | model.layer1.2              | BasicBlock        | 73 K  \n",
      "19  | model.layer1.2.conv1        | Conv2d            | 36 K  \n",
      "20  | model.layer1.2.bn1          | BatchNorm2d       | 128   \n",
      "21  | model.layer1.2.relu         | ReLU              | 0     \n",
      "22  | model.layer1.2.conv2        | Conv2d            | 36 K  \n",
      "23  | model.layer1.2.bn2          | BatchNorm2d       | 128   \n",
      "24  | model.layer2                | Sequential        | 1 M   \n",
      "25  | model.layer2.0              | BasicBlock        | 230 K \n",
      "26  | model.layer2.0.conv1        | Conv2d            | 73 K  \n",
      "27  | model.layer2.0.bn1          | BatchNorm2d       | 256   \n",
      "28  | model.layer2.0.relu         | ReLU              | 0     \n",
      "29  | model.layer2.0.conv2        | Conv2d            | 147 K \n",
      "30  | model.layer2.0.bn2          | BatchNorm2d       | 256   \n",
      "31  | model.layer2.0.downsample   | Sequential        | 8 K   \n",
      "32  | model.layer2.0.downsample.0 | Conv2d            | 8 K   \n",
      "33  | model.layer2.0.downsample.1 | BatchNorm2d       | 256   \n",
      "34  | model.layer2.1              | BasicBlock        | 295 K \n",
      "35  | model.layer2.1.conv1        | Conv2d            | 147 K \n",
      "36  | model.layer2.1.bn1          | BatchNorm2d       | 256   \n",
      "37  | model.layer2.1.relu         | ReLU              | 0     \n",
      "38  | model.layer2.1.conv2        | Conv2d            | 147 K \n",
      "39  | model.layer2.1.bn2          | BatchNorm2d       | 256   \n",
      "40  | model.layer2.2              | BasicBlock        | 295 K \n",
      "41  | model.layer2.2.conv1        | Conv2d            | 147 K \n",
      "42  | model.layer2.2.bn1          | BatchNorm2d       | 256   \n",
      "43  | model.layer2.2.relu         | ReLU              | 0     \n",
      "44  | model.layer2.2.conv2        | Conv2d            | 147 K \n",
      "45  | model.layer2.2.bn2          | BatchNorm2d       | 256   \n",
      "46  | model.layer2.3              | BasicBlock        | 295 K \n",
      "47  | model.layer2.3.conv1        | Conv2d            | 147 K \n",
      "48  | model.layer2.3.bn1          | BatchNorm2d       | 256   \n",
      "49  | model.layer2.3.relu         | ReLU              | 0     \n",
      "50  | model.layer2.3.conv2        | Conv2d            | 147 K \n",
      "51  | model.layer2.3.bn2          | BatchNorm2d       | 256   \n",
      "52  | model.layer3                | Sequential        | 6 M   \n",
      "53  | model.layer3.0              | BasicBlock        | 919 K \n",
      "54  | model.layer3.0.conv1        | Conv2d            | 294 K \n",
      "55  | model.layer3.0.bn1          | BatchNorm2d       | 512   \n",
      "56  | model.layer3.0.relu         | ReLU              | 0     \n",
      "57  | model.layer3.0.conv2        | Conv2d            | 589 K \n",
      "58  | model.layer3.0.bn2          | BatchNorm2d       | 512   \n",
      "59  | model.layer3.0.downsample   | Sequential        | 33 K  \n",
      "60  | model.layer3.0.downsample.0 | Conv2d            | 32 K  \n",
      "61  | model.layer3.0.downsample.1 | BatchNorm2d       | 512   \n",
      "62  | model.layer3.1              | BasicBlock        | 1 M   \n",
      "63  | model.layer3.1.conv1        | Conv2d            | 589 K \n",
      "64  | model.layer3.1.bn1          | BatchNorm2d       | 512   \n",
      "65  | model.layer3.1.relu         | ReLU              | 0     \n",
      "66  | model.layer3.1.conv2        | Conv2d            | 589 K \n",
      "67  | model.layer3.1.bn2          | BatchNorm2d       | 512   \n",
      "68  | model.layer3.2              | BasicBlock        | 1 M   \n",
      "69  | model.layer3.2.conv1        | Conv2d            | 589 K \n",
      "70  | model.layer3.2.bn1          | BatchNorm2d       | 512   \n",
      "71  | model.layer3.2.relu         | ReLU              | 0     \n",
      "72  | model.layer3.2.conv2        | Conv2d            | 589 K \n",
      "73  | model.layer3.2.bn2          | BatchNorm2d       | 512   \n",
      "74  | model.layer3.3              | BasicBlock        | 1 M   \n",
      "75  | model.layer3.3.conv1        | Conv2d            | 589 K \n",
      "76  | model.layer3.3.bn1          | BatchNorm2d       | 512   \n",
      "77  | model.layer3.3.relu         | ReLU              | 0     \n",
      "78  | model.layer3.3.conv2        | Conv2d            | 589 K \n",
      "79  | model.layer3.3.bn2          | BatchNorm2d       | 512   \n",
      "80  | model.layer3.4              | BasicBlock        | 1 M   \n",
      "81  | model.layer3.4.conv1        | Conv2d            | 589 K \n",
      "82  | model.layer3.4.bn1          | BatchNorm2d       | 512   \n",
      "83  | model.layer3.4.relu         | ReLU              | 0     \n",
      "84  | model.layer3.4.conv2        | Conv2d            | 589 K \n",
      "85  | model.layer3.4.bn2          | BatchNorm2d       | 512   \n",
      "86  | model.layer3.5              | BasicBlock        | 1 M   \n",
      "87  | model.layer3.5.conv1        | Conv2d            | 589 K \n",
      "88  | model.layer3.5.bn1          | BatchNorm2d       | 512   \n",
      "89  | model.layer3.5.relu         | ReLU              | 0     \n",
      "90  | model.layer3.5.conv2        | Conv2d            | 589 K \n",
      "91  | model.layer3.5.bn2          | BatchNorm2d       | 512   \n",
      "92  | model.layer4                | Sequential        | 13 M  \n",
      "93  | model.layer4.0              | BasicBlock        | 3 M   \n",
      "94  | model.layer4.0.conv1        | Conv2d            | 1 M   \n",
      "95  | model.layer4.0.bn1          | BatchNorm2d       | 1 K   \n",
      "96  | model.layer4.0.relu         | ReLU              | 0     \n",
      "97  | model.layer4.0.conv2        | Conv2d            | 2 M   \n",
      "98  | model.layer4.0.bn2          | BatchNorm2d       | 1 K   \n",
      "99  | model.layer4.0.downsample   | Sequential        | 132 K \n",
      "100 | model.layer4.0.downsample.0 | Conv2d            | 131 K \n",
      "101 | model.layer4.0.downsample.1 | BatchNorm2d       | 1 K   \n",
      "102 | model.layer4.1              | BasicBlock        | 4 M   \n",
      "103 | model.layer4.1.conv1        | Conv2d            | 2 M   \n",
      "104 | model.layer4.1.bn1          | BatchNorm2d       | 1 K   \n",
      "105 | model.layer4.1.relu         | ReLU              | 0     \n",
      "106 | model.layer4.1.conv2        | Conv2d            | 2 M   \n",
      "107 | model.layer4.1.bn2          | BatchNorm2d       | 1 K   \n",
      "108 | model.layer4.2              | BasicBlock        | 4 M   \n",
      "109 | model.layer4.2.conv1        | Conv2d            | 2 M   \n",
      "110 | model.layer4.2.bn1          | BatchNorm2d       | 1 K   \n",
      "111 | model.layer4.2.relu         | ReLU              | 0     \n",
      "112 | model.layer4.2.conv2        | Conv2d            | 2 M   \n",
      "113 | model.layer4.2.bn2          | BatchNorm2d       | 1 K   \n",
      "114 | model.avgpool               | AdaptiveAvgPool2d | 0     \n",
      "115 | model.fc                    | Linear            | 1 K   \n",
      "116 | criteria                    | CrossEntropyLoss  | 0     \n",
      "/Users/mark/.conda/envs/nscl_reproducability_challenge/lib/python3.7/site-packages/pytorch_lightning/utilities/warnings.py:18: UserWarning: The dataloader, val dataloader 0, does not have many workers which may be a bottleneck. Consider increasing the value of the `num_workers` argument` in the `DataLoader` init to improve performance.\n",
      "  warnings.warn(*args, **kwargs)\n",
      "/Users/mark/.conda/envs/nscl_reproducability_challenge/lib/python3.7/site-packages/pytorch_lightning/utilities/warnings.py:18: RuntimeWarning: Displayed epoch numbers in the progress bar start from \"1\" until v0.6.x, but will start from \"0\" in v0.8.0.\n",
      "  warnings.warn(*args, **kwargs)\n",
      "/Users/mark/.conda/envs/nscl_reproducability_challenge/lib/python3.7/site-packages/pytorch_lightning/utilities/warnings.py:18: UserWarning: The dataloader, train dataloader, does not have many workers which may be a bottleneck. Consider increasing the value of the `num_workers` argument` in the `DataLoader` init to improve performance.\n",
      "  warnings.warn(*args, **kwargs)\n",
      "/Users/mark/.conda/envs/nscl_reproducability_challenge/lib/python3.7/site-packages/pytorch_lightning/utilities/warnings.py:18: RuntimeWarning: Can save best model only with val_loss available, skipping.\n",
      "  warnings.warn(*args, **kwargs)\n"
     ]
    },
    {
     "data": {
      "text/plain": "HBox(children=(FloatProgress(value=0.0, description='Validation sanity check', layout=Layout(flex='2'), max=5.…",
      "application/vnd.jupyter.widget-view+json": {
       "version_major": 2,
       "version_minor": 0,
       "model_id": "28654c389b1743bf93174f63f5c7d484"
      }
     },
     "metadata": {},
     "output_type": "display_data"
    },
    {
     "data": {
      "text/plain": "HBox(children=(FloatProgress(value=1.0, bar_style='info', layout=Layout(flex='2'), max=1.0), HTML(value='')), …",
      "application/vnd.jupyter.widget-view+json": {
       "version_major": 2,
       "version_minor": 0,
       "model_id": "369941b1d8894bfcabe422c4fa508b38"
      }
     },
     "metadata": {},
     "output_type": "display_data"
    },
    {
     "data": {
      "text/plain": "HBox(children=(FloatProgress(value=0.0, description='Validating', layout=Layout(flex='2'), max=1.0, style=Prog…",
      "application/vnd.jupyter.widget-view+json": {
       "version_major": 2,
       "version_minor": 0,
       "model_id": "0096cc884e9f41068f16e69c288e3454"
      }
     },
     "metadata": {},
     "output_type": "display_data"
    },
    {
     "data": {
      "text/plain": "HBox(children=(FloatProgress(value=0.0, description='Validating', layout=Layout(flex='2'), max=1.0, style=Prog…",
      "application/vnd.jupyter.widget-view+json": {
       "version_major": 2,
       "version_minor": 0,
       "model_id": "9705c030ae3046d8ab59ab2081256f55"
      }
     },
     "metadata": {},
     "output_type": "display_data"
    },
    {
     "data": {
      "text/plain": "HBox(children=(FloatProgress(value=0.0, description='Validating', layout=Layout(flex='2'), max=1.0, style=Prog…",
      "application/vnd.jupyter.widget-view+json": {
       "version_major": 2,
       "version_minor": 0,
       "model_id": "0545cb5c4b9a4a3babb71e1f74912bcb"
      }
     },
     "metadata": {},
     "output_type": "display_data"
    },
    {
     "data": {
      "text/plain": "HBox(children=(FloatProgress(value=0.0, description='Validating', layout=Layout(flex='2'), max=1.0, style=Prog…",
      "application/vnd.jupyter.widget-view+json": {
       "version_major": 2,
       "version_minor": 0,
       "model_id": "979c4bfe4f1d422e97c25f8989c3cffa"
      }
     },
     "metadata": {},
     "output_type": "display_data"
    },
    {
     "data": {
      "text/plain": "HBox(children=(FloatProgress(value=0.0, description='Validating', layout=Layout(flex='2'), max=1.0, style=Prog…",
      "application/vnd.jupyter.widget-view+json": {
       "version_major": 2,
       "version_minor": 0,
       "model_id": "67b72206a3cb4a6e9caa836216a95c54"
      }
     },
     "metadata": {},
     "output_type": "display_data"
    },
    {
     "data": {
      "text/plain": "HBox(children=(FloatProgress(value=0.0, description='Validating', layout=Layout(flex='2'), max=1.0, style=Prog…",
      "application/vnd.jupyter.widget-view+json": {
       "version_major": 2,
       "version_minor": 0,
       "model_id": "6904743dc1d54a0b812cce1d42062df4"
      }
     },
     "metadata": {},
     "output_type": "display_data"
    },
    {
     "data": {
      "text/plain": "HBox(children=(FloatProgress(value=0.0, description='Validating', layout=Layout(flex='2'), max=1.0, style=Prog…",
      "application/vnd.jupyter.widget-view+json": {
       "version_major": 2,
       "version_minor": 0,
       "model_id": "8ba6c02f9ba94e9094b499d10b7226ff"
      }
     },
     "metadata": {},
     "output_type": "display_data"
    },
    {
     "data": {
      "text/plain": "HBox(children=(FloatProgress(value=0.0, description='Validating', layout=Layout(flex='2'), max=1.0, style=Prog…",
      "application/vnd.jupyter.widget-view+json": {
       "version_major": 2,
       "version_minor": 0,
       "model_id": "c82d573bae4e43b8ac6d6f76bf0d86b5"
      }
     },
     "metadata": {},
     "output_type": "display_data"
    },
    {
     "data": {
      "text/plain": "HBox(children=(FloatProgress(value=0.0, description='Validating', layout=Layout(flex='2'), max=1.0, style=Prog…",
      "application/vnd.jupyter.widget-view+json": {
       "version_major": 2,
       "version_minor": 0,
       "model_id": "4951834f1ec1475d80dff5e4273c65bb"
      }
     },
     "metadata": {},
     "output_type": "display_data"
    },
    {
     "data": {
      "text/plain": "HBox(children=(FloatProgress(value=0.0, description='Validating', layout=Layout(flex='2'), max=1.0, style=Prog…",
      "application/vnd.jupyter.widget-view+json": {
       "version_major": 2,
       "version_minor": 0,
       "model_id": "fe81015c49ee4b57be5d30b2ea1c28c8"
      }
     },
     "metadata": {},
     "output_type": "display_data"
    },
    {
     "name": "stdout",
     "output_type": "stream",
     "text": [
      "\n"
     ]
    },
    {
     "data": {
      "text/plain": "1"
     },
     "execution_count": 8,
     "metadata": {},
     "output_type": "execute_result"
    }
   ],
   "source": [
    "clevr_model = CLEVRObjectModel()\n",
    "trainer = pl.Trainer(max_epochs=10)\n",
    "trainer.fit(clevr_model)\n"
   ]
  },
  {
   "cell_type": "code",
   "execution_count": 9,
   "metadata": {},
   "outputs": [
    {
     "name": "stdout",
     "output_type": "stream",
     "text": [
      "tensor([[-0.6003, -0.6378, -0.2630]], grad_fn=<AddmmBackward>)\n",
      "The predicted class is cube\n",
      "The target is cube\n"
     ]
    },
    {
     "data": {
      "text/plain": "<Figure size 432x288 with 1 Axes>",
      "image/png": "[encoded data removed]"
     },
     "metadata": {
      "needs_background": "light"
     },
     "output_type": "display_data"
    }
   ],
   "source": [
    "img, target = test_dataset[0]\n",
    "prediction = clevr_model(img.unsqueeze(0))\n",
    "\n",
    "predicted_class = test_dataset.classes[prediction.argmax(1).cpu()]\n",
    "print(prediction)\n",
    "print('The predicted class is', predicted_class)\n",
    "print('The target is', test_dataset.classes[target])\n",
    "plt.imshow(img.permute(1, 2, 0))\n",
    "plt.show()"
   ]
  }
 ],
 "metadata": {
  "kernelspec": {
   "display_name": "Python 3",
   "language": "python",
   "name": "python3"
  },
  "language_info": {
   "codemirror_mode": {
    "name": "ipython",
    "version": 3
   },
   "file_extension": ".py",
   "mimetype": "text/x-python",
   "name": "python",
   "nbconvert_exporter": "python",
   "pygments_lexer": "ipython3",
   "version": "3.7.7"
  }
 },
 "nbformat": 4,
 "nbformat_minor": 1
}