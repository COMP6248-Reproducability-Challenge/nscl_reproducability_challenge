{
 "cells": [
  {
   "cell_type": "code",
   "execution_count": 1,
   "metadata": {},
   "outputs": [
    {
     "output_type": "stream",
     "name": "stdout",
     "text": "The history saving thread hit an unexpected error (DatabaseError('database disk image is malformed')).History will not be written to the database.\n"
    }
   ],
   "source": [
    "import os\n",
    "\n",
    "import torch\n",
    "import torch.nn as nn\n",
    "\n",
    "from torch import optim\n",
    "from torch.utils.data import random_split\n",
    "from nscl.datasets.clevr_dataset import build_clevr_dataset, build_clevr_dataloader, CLEVRCurriculumSampler\n",
    "from nscl.datasets.clevr_definition import CLEVRDefinition\n",
    "from nscl.models.nscl_module import NSCLModule\n",
    "from tqdm.autonotebook import tqdm"
   ]
  },
  {
   "cell_type": "code",
   "execution_count": 2,
   "metadata": {},
   "outputs": [
    {
     "output_type": "stream",
     "name": "stdout",
     "text": "loading scenes from: /home/tpanyapiang/git/MSc/nscl_reproducability_challenge/data/scenes.json\nloading questions from: /home/tpanyapiang/git/MSc/nscl_reproducability_challenge/data/questions.json\n"
    }
   ],
   "source": [
    "train_img_root = os.path.abspath(os.getcwd()) + '/data/images'\n",
    "train_scene_json = os.path.abspath(os.getcwd())  + '/data/scenes.json'\n",
    "train_question_json = os.path.abspath(os.getcwd())  + '/data/questions.json'\n",
    "\n",
    "dataset = build_clevr_dataset(train_img_root, train_scene_json, train_question_json)\n",
    "train_ratio, test_ratio = 0.8, 0.2\n",
    "train_dataset, test_dataset = random_split(dataset, [int(train_ratio * len(dataset)), int(test_ratio * len(dataset))])"
   ]
  },
  {
   "cell_type": "code",
   "execution_count": 6,
   "metadata": {
    "tags": [
     "outputPrepend",
     "outputPrepend",
     "outputPrepend"
    ]
   },
   "outputs": [
    {
     "output_type": "stream",
     "name": "stdout",
     "text": "Preparing curriculum sampler....\n"
    },
    {
     "output_type": "display_data",
     "data": {
      "text/plain": "HBox(children=(FloatProgress(value=0.0, max=10.0), HTML(value='')))",
      "application/vnd.jupyter.widget-view+json": {
       "version_major": 2,
       "version_minor": 0,
       "model_id": "ac1fdaea405a4a06a517e3ff6f3b869c"
      }
     },
     "metadata": {}
    },
    {
     "output_type": "stream",
     "name": "stdout",
     "text": "Operator not implemented count_less\nOperator not implemented count_less\nUnsupport question : Is the number of gray objects less than the number of metal objects?\nNot compute loss\nOperator not implemented count_less\nUnsupport question : Is the number of gray objects less than the number of metal objects?\nNot compute loss\nOperator not implemented count_less\nUnsupport question : Is the number of gray objects less than the number of metal objects?\nNot compute loss\nOperator not implemented count_less\nUnsupport question : Is the number of gray objects less than the number of metal objects?\nNot compute loss\nOperator not implemented count_less\nUnsupport question : Is the number of gray objects less than the number of metal objects?\nNot compute loss\nOperator not implemented count_less\nUnsupport question : Is the number of gray objects less than the number of metal objects?\nNot compute loss\nOperator not implemented count_less\nUnsupport question : Is the number of gray objects less than the number of metal objects?\nNot compute loss\nOperator not implemented count_less\nUnsupport question : Is the number of gray objects less than the number of metal objects?\nNot compute loss\nOperator not implemented count_less\nUnsupport question : Is the number of gray objects less than the number of metal objects?\nNot compute loss\n\n"
    }
   ],
   "source": [
    "batch_size = 128\n",
    "num_workers = 1\n",
    "num_epoch = 10\n",
    "\n",
    "curriculum_sampler = CLEVRCurriculumSampler(train_dataset, max_scene_size=5, max_program_size=7, max_data_size=1000)\n",
    "trainloader = build_clevr_dataloader(train_dataset, batch_size=batch_size, num_workers=num_workers, shuffle=False,drop_last=False, sampler=curriculum_sampler)\n",
    "\n",
    "model = NSCLModule(CLEVRDefinition.attribute_concept_map)\n",
    "mse_loss = nn.MSELoss()\n",
    "bce_loss = nn.BCELoss()\n",
    "ce_loss = nn.CrossEntropyLoss()\n",
    "# Freeze visual module\n",
    "for param in model.visual_module.parameters():\n",
    "    param.requires_grad = False\n",
    "\n",
    "optimiser = optim.Adam(filter(lambda p: p.requires_grad, model.parameters()), lr=0.01)\n",
    "\n",
    "for i in tqdm(range(num_epoch)):\n",
    "    for images, questions, scenes in trainloader:\n",
    "        results = model(images, questions, scenes)\n",
    "        # Compute loss\n",
    "        for i, q in enumerate(questions):\n",
    "            predicted_answer = results[i]\n",
    "            true_answer = q.answer_tensor\n",
    "            if isinstance(q.answer, bool):\n",
    "                loss_function = bce_loss\n",
    "                predicted_answer = torch.stack([predicted_answer, torch.tensor(1 - predicted_answer.item())])\n",
    "            elif isinstance(q.answer, int):\n",
    "                loss_function = mse_loss\n",
    "            elif q.answer_tensor.shape[0] == 2:\n",
    "                loss_function = bce_loss\n",
    "            else:\n",
    "                loss_function = ce_loss\n",
    "                predicted_answer = predicted_answer.unsqueeze(0)\n",
    "\n",
    "            # print(f'{loss_function}|{q.raw_question},{q.answer},{true_answer.data},{predicted_answer.data}')\n",
    "            try:\n",
    "                loss = loss_function(predicted_answer, true_answer)\n",
    "                loss.backward()\n",
    "            except Exception as ex:\n",
    "                print(f'Unsupport question : {q.raw_question}')\n",
    "                print(f'Not compute loss')\n",
    "    optimiser.step()\n"
   ]
  },
  {
   "cell_type": "code",
   "execution_count": null,
   "metadata": {},
   "outputs": [],
   "source": []
  }
 ],
 "metadata": {
  "language_info": {
   "codemirror_mode": {
    "name": "ipython",
    "version": 3
   },
   "file_extension": ".py",
   "mimetype": "text/x-python",
   "name": "python",
   "nbconvert_exporter": "python",
   "pygments_lexer": "ipython3",
   "version": "3.7.7-final"
  },
  "orig_nbformat": 2,
  "kernelspec": {
   "name": "python37664bit2bcb0db5b0d04a86b640e4b86a7cd9a7",
   "display_name": "Python 3.7.6 64-bit"
  }
 },
 "nbformat": 4,
 "nbformat_minor": 2
}