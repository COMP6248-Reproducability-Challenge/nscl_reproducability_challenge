{
 "cells": [
  {
   "cell_type": "code",
   "execution_count": 1,
   "metadata": {},
   "outputs": [
    {
     "output_type": "stream",
     "name": "stdout",
     "text": "The history saving thread hit an unexpected error (DatabaseError('database disk image is malformed')).History will not be written to the database.\n"
    }
   ],
   "source": [
    "import os\n",
    "from nscl.datasets.clevr_dataset import CLEVRDataset, CLEVRCurriculumSampler, build_clevr_dataset, build_clevr_dataloader\n",
    "from torch.utils.data import DataLoader\n",
    "import matplotlib.pyplot as plt\n",
    "%matplotlib inline\n",
    "\n",
    "img_root = os.path.abspath(os.getcwd()) + '/data/images'\n",
    "scene_json = os.path.abspath(os.getcwd()) + '/data/scenes.json'\n",
    "questions_json = os.path.abspath(os.getcwd()) + '/data/questions.json'\n",
    "\n",
    "dataset = build_clevr_dataset(img_root, scene_json, questions_json)"
   ]
  },
  {
   "cell_type": "code",
   "execution_count": null,
   "metadata": {
    "tags": [
     "outputPrepend",
     "outputPrepend",
     "outputPrepend",
     "outputPrepend",
     "outputPrepend",
     "outputPrepend",
     "outputPrepend"
    ]
   },
   "outputs": [],
   "source": [
    "dataloader = build_clevr_dataloader(dataset, batch_size=5, shuffle=True, drop_last=True)\n",
    "for imgs, questions, scenes in dataloader:\n",
    "    for img, question in zip(imgs, questions):\n",
    "        plt.figure()\n",
    "        plt.axis(\"off\")\n",
    "        plt.title(f'{question.raw_question}{question.answer}')\n",
    "        plt.imshow(img.permute(1, 2, 0))\n",
    "    break"
   ]
  },
  {
   "cell_type": "code",
   "execution_count": null,
   "metadata": {},
   "outputs": [],
   "source": [
    "# Program translator\n",
    "dataloader = build_clevr_dataloader(dataset, batch_size=10, shuffle=True, drop_last=True)\n",
    "for imgs, questions, scenes in dataloader:\n",
    "    for img, question in zip(imgs, questions):\n",
    "        print(question.raw_question)\n",
    "        for p in question.program:\n",
    "            print(f'{p.operator},{p.attribute},{p.concept}', end='|')\n",
    "        print()\n",
    "    break"
   ]
  },
  {
   "cell_type": "code",
   "execution_count": 2,
   "metadata": {
    "tags": [
     "outputPrepend",
     "outputPrepend",
     "outputPrepend",
     "outputPrepend",
     "outputPrepend",
     "outputPrepend",
     "outputPrepend",
     "outputPrepend",
     "outputPrepend",
     "outputPrepend",
     "outputPrepend",
     "outputPrepend",
     "outputPrepend",
     "outputPrepend",
     "outputPrepend",
     "outputPrepend"
    ]
   },
   "outputs": [],
   "source": [
    "# Curriculum learning\n",
    "curriculum_sampler = CLEVRCurriculumSampler(dataset, max_scene_size=5, max_program_size=10) # <= 5 objects and programs in question\n",
    "dataloader = build_clevr_dataloader(dataset, batch_size=100, shuffle=False, drop_last=True, sampler=curriculum_sampler)\n",
    "for imgs, questions, scenes in dataloader:\n",
    "    for img, question in zip(imgs, questions):\n",
    "        plt.figure()\n",
    "        plt.axis(\"off\")\n",
    "        plt.title(f'{question.raw_question}{question.answer}')\n",
    "        plt.imshow(img.permute(1, 2, 0))\n",
    "    break"
   ]
  },
  {
   "cell_type": "code",
   "execution_count": null,
   "metadata": {},
   "outputs": [],
   "source": []
  }
 ],
 "metadata": {
  "language_info": {
   "name": "python",
   "codemirror_mode": {
    "name": "ipython",
    "version": 3
   },
   "version": "3.7.7-final"
  },
  "orig_nbformat": 2,
  "file_extension": ".py",
  "mimetype": "text/x-python",
  "name": "python",
  "npconvert_exporter": "python",
  "pygments_lexer": "ipython3",
  "version": 3,
  "kernelspec": {
   "name": "python37664bit2bcb0db5b0d04a86b640e4b86a7cd9a7",
   "display_name": "Python 3.7.6 64-bit"
  }
 },
 "nbformat": 4,
 "nbformat_minor": 2
}